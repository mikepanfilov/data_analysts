{
 "cells": [
  {
   "cell_type": "markdown",
   "metadata": {},
   "source": [
    "# Описание проекта"
   ]
  },
  {
   "cell_type": "markdown",
   "metadata": {},
   "source": [
    "Анализ для крупного интернет-магазина. Вместе с отделом маркетинга подготовлен список гипотез для увеличения выручки."
   ]
  },
  {
   "cell_type": "markdown",
   "metadata": {},
   "source": [
    "*Общие задачи:*\n",
    "- Приоритизировать гипотезы\n",
    "- Запустить A/B-тест\n",
    "- Проанализировать результаты"
   ]
  },
  {
   "cell_type": "code",
   "execution_count": 1,
   "metadata": {},
   "outputs": [],
   "source": [
    "import pandas as pd\n",
    "import numpy as np\n",
    "import scipy.stats as st\n",
    "import matplotlib.pyplot as plt\n",
    "import seaborn as sns"
   ]
  },
  {
   "cell_type": "code",
   "execution_count": 2,
   "metadata": {},
   "outputs": [],
   "source": [
    "hypothesis = pd.read_csv('datasets/hypothesis.csv', index_col=0)\n",
    "orders = pd.read_csv('datasets/orders.csv', index_col=0)\n",
    "visitors = pd.read_csv('datasets/visitors.csv', index_col=0)"
   ]
  },
  {
   "cell_type": "markdown",
   "metadata": {},
   "source": [
    "## Содержание <a class='anchor' id='up'></a>"
   ]
  },
  {
   "cell_type": "markdown",
   "metadata": {},
   "source": [
    "[**Часть 1. Приоритизация гипотез**](#1)\n",
    "\n",
    "- [1.1 Фреймворк ICE](#11)\n",
    "\n",
    "- [1.2 Фреймворк RICE](#12)\n",
    "\n",
    "- [1.3 Изменение приоритизации при применении RICE вместо ICE](#13)\n",
    "\n",
    "[**Часть 2. Анализ A/B-теста**](#2)\n",
    "\n",
    "- [2.1 График кумулятивной выручки по группам](#21)\n",
    "\n",
    "- [2.2 График кумулятивного среднего чека по группам](#22)\n",
    "\n",
    "- [2.3 График относительного изменения кумулятивного среднего чека группы B к группе A](#23)\n",
    "\n",
    "- [2.4 График кумулятивной конверсии по группам](#24)\n",
    "\n",
    "- [2.5 График относительного изменения кумулятивной конверсии группы B к группе A](#25)\n",
    "\n",
    "- [2.6 Точечный график количества заказов по пользователям](#26)\n",
    "\n",
    "- [2.7 95-й и 99-й перцентили количества заказов на пользователя](#27)\n",
    "\n",
    "- [2.8 Точечный график стоимостей заказов](#28)\n",
    "\n",
    "- [2.9 95-й и 99-й перцентили стоимости заказов](#29)\n",
    "\n",
    "- [2.10 Статистическая значимость различий в конверсии между группами по «сырым» данным](#210)\n",
    "\n",
    "- [2.11 Статистическая значимость различий в среднем чеке заказа между группами по «сырым» данным](#211)\n",
    "\n",
    "- [2.12 Статистическая значимость различий в конверсии между группами по «очищенным» данным](#212)\n",
    "\n",
    "- [2.13 Статистическая значимость различий в среднем чеке заказа между группами по «очищенным» данным](#213)\n",
    "\n",
    "- [2.14 Решение по результатам теста](#214)\n",
    "\n",
    "[ЗАКЛЮЧЕНИЕ](#total)"
   ]
  },
  {
   "cell_type": "markdown",
   "metadata": {},
   "source": [
    "# Часть 1. Приоритизация гипотез <a class='anchor' id='1'></a>"
   ]
  },
  {
   "cell_type": "markdown",
   "metadata": {},
   "source": [
    "Подготовим данные:"
   ]
  },
  {
   "cell_type": "code",
   "execution_count": 3,
   "metadata": {
    "scrolled": true
   },
   "outputs": [
    {
     "name": "stdout",
     "output_type": "stream",
     "text": [
      "<class 'pandas.core.frame.DataFrame'>\n",
      "Int64Index: 9 entries, 0 to 8\n",
      "Data columns (total 5 columns):\n",
      " #   Column      Non-Null Count  Dtype \n",
      "---  ------      --------------  ----- \n",
      " 0   Hypothesis  9 non-null      object\n",
      " 1   Reach       9 non-null      int64 \n",
      " 2   Impact      9 non-null      int64 \n",
      " 3   Confidence  9 non-null      int64 \n",
      " 4   Efforts     9 non-null      int64 \n",
      "dtypes: int64(4), object(1)\n",
      "memory usage: 432.0+ bytes\n"
     ]
    }
   ],
   "source": [
    "hypothesis.info()"
   ]
  },
  {
   "cell_type": "markdown",
   "metadata": {},
   "source": [
    "Приведем названия к нижнему регистру:"
   ]
  },
  {
   "cell_type": "code",
   "execution_count": 4,
   "metadata": {},
   "outputs": [],
   "source": [
    "hypothesis.columns = hypothesis.columns.str.lower()"
   ]
  },
  {
   "cell_type": "markdown",
   "metadata": {},
   "source": [
    "Увеличим максимальное количество знаков к колонке (чтобы видеть гипотезы полностью):"
   ]
  },
  {
   "cell_type": "code",
   "execution_count": 5,
   "metadata": {},
   "outputs": [],
   "source": [
    "pd.options.display.max_colwidth=200"
   ]
  },
  {
   "cell_type": "code",
   "execution_count": 6,
   "metadata": {},
   "outputs": [
    {
     "data": {
      "text/html": [
       "<div>\n",
       "<style scoped>\n",
       "    .dataframe tbody tr th:only-of-type {\n",
       "        vertical-align: middle;\n",
       "    }\n",
       "\n",
       "    .dataframe tbody tr th {\n",
       "        vertical-align: top;\n",
       "    }\n",
       "\n",
       "    .dataframe thead th {\n",
       "        text-align: right;\n",
       "    }\n",
       "</style>\n",
       "<table border=\"1\" class=\"dataframe\">\n",
       "  <thead>\n",
       "    <tr style=\"text-align: right;\">\n",
       "      <th></th>\n",
       "      <th>hypothesis</th>\n",
       "      <th>reach</th>\n",
       "      <th>impact</th>\n",
       "      <th>confidence</th>\n",
       "      <th>efforts</th>\n",
       "    </tr>\n",
       "  </thead>\n",
       "  <tbody>\n",
       "    <tr>\n",
       "      <th>0</th>\n",
       "      <td>Добавить два новых канала привлечения трафика, что позволит привлекать на 30% больше пользователей</td>\n",
       "      <td>3</td>\n",
       "      <td>10</td>\n",
       "      <td>8</td>\n",
       "      <td>6</td>\n",
       "    </tr>\n",
       "    <tr>\n",
       "      <th>1</th>\n",
       "      <td>Запустить собственную службу доставки, что сократит срок доставки заказов</td>\n",
       "      <td>2</td>\n",
       "      <td>5</td>\n",
       "      <td>4</td>\n",
       "      <td>10</td>\n",
       "    </tr>\n",
       "    <tr>\n",
       "      <th>2</th>\n",
       "      <td>Добавить блоки рекомендаций товаров на сайт интернет магазина, чтобы повысить конверсию и средний чек заказа</td>\n",
       "      <td>8</td>\n",
       "      <td>3</td>\n",
       "      <td>7</td>\n",
       "      <td>3</td>\n",
       "    </tr>\n",
       "    <tr>\n",
       "      <th>3</th>\n",
       "      <td>Изменить структура категорий, что увеличит конверсию, т.к. пользователи быстрее найдут нужный товар</td>\n",
       "      <td>8</td>\n",
       "      <td>3</td>\n",
       "      <td>3</td>\n",
       "      <td>8</td>\n",
       "    </tr>\n",
       "    <tr>\n",
       "      <th>4</th>\n",
       "      <td>Изменить цвет фона главной страницы, чтобы увеличить вовлеченность пользователей</td>\n",
       "      <td>3</td>\n",
       "      <td>1</td>\n",
       "      <td>1</td>\n",
       "      <td>1</td>\n",
       "    </tr>\n",
       "  </tbody>\n",
       "</table>\n",
       "</div>"
      ],
      "text/plain": [
       "                                                                                                     hypothesis  \\\n",
       "0            Добавить два новых канала привлечения трафика, что позволит привлекать на 30% больше пользователей   \n",
       "1                                     Запустить собственную службу доставки, что сократит срок доставки заказов   \n",
       "2  Добавить блоки рекомендаций товаров на сайт интернет магазина, чтобы повысить конверсию и средний чек заказа   \n",
       "3           Изменить структура категорий, что увеличит конверсию, т.к. пользователи быстрее найдут нужный товар   \n",
       "4                              Изменить цвет фона главной страницы, чтобы увеличить вовлеченность пользователей   \n",
       "\n",
       "   reach  impact  confidence  efforts  \n",
       "0      3      10           8        6  \n",
       "1      2       5           4       10  \n",
       "2      8       3           7        3  \n",
       "3      8       3           3        8  \n",
       "4      3       1           1        1  "
      ]
     },
     "execution_count": 6,
     "metadata": {},
     "output_type": "execute_result"
    }
   ],
   "source": [
    "hypothesis.head()"
   ]
  },
  {
   "cell_type": "markdown",
   "metadata": {},
   "source": [
    "*Описание данных:*\n",
    "- **hypothesis** — краткое описание гипотезы;\n",
    "- **reach** — охват пользователей по 10-балльной шкале;\n",
    "- **impact** — влияние на пользователей по 10-балльной шкале;\n",
    "- **confidence** — уверенность в гипотезе по 10-балльной шкале;\n",
    "- **efforts** — затраты ресурсов на проверку гипотезы по 10-балльной шкале. Чем больше значение **Efforts**, тем дороже проверка гипотезы."
   ]
  },
  {
   "cell_type": "markdown",
   "metadata": {},
   "source": [
    "[⬆︎ К содержанию ⬆︎](#up)"
   ]
  },
  {
   "cell_type": "markdown",
   "metadata": {},
   "source": [
    "Проверим, являются ли баллы в пределах значений от 1 до 10: <a class='anchor' id='edit1'></a>"
   ]
  },
  {
   "cell_type": "code",
   "execution_count": 7,
   "metadata": {},
   "outputs": [
    {
     "name": "stdout",
     "output_type": "stream",
     "text": [
      "Аномальных значений не обнаружено\n"
     ]
    }
   ],
   "source": [
    "check = []\n",
    "for x in ['reach', 'impact', 'confidence', 'efforts']:\n",
    "    for u in hypothesis[x].unique():\n",
    "        check.append(u in range(1,11))\n",
    "if False not in check:\n",
    "    print ('Аномальных значений не обнаружено')\n",
    "else:\n",
    "    print ('Аномальные значения присутствуют')"
   ]
  },
  {
   "cell_type": "markdown",
   "metadata": {},
   "source": [
    "### 1.1 Фреймворк ICE <a class='anchor' id='11'></a>"
   ]
  },
  {
   "cell_type": "markdown",
   "metadata": {},
   "source": [
    "Рассчитаем фреймворк:"
   ]
  },
  {
   "cell_type": "code",
   "execution_count": 8,
   "metadata": {},
   "outputs": [],
   "source": [
    "hypothesis['ICE'] = hypothesis['impact'] * hypothesis['confidence'] / hypothesis['efforts']"
   ]
  },
  {
   "cell_type": "markdown",
   "metadata": {},
   "source": [
    "Выведем результаты:"
   ]
  },
  {
   "cell_type": "code",
   "execution_count": 9,
   "metadata": {},
   "outputs": [
    {
     "data": {
      "text/html": [
       "<div>\n",
       "<style scoped>\n",
       "    .dataframe tbody tr th:only-of-type {\n",
       "        vertical-align: middle;\n",
       "    }\n",
       "\n",
       "    .dataframe tbody tr th {\n",
       "        vertical-align: top;\n",
       "    }\n",
       "\n",
       "    .dataframe thead th {\n",
       "        text-align: right;\n",
       "    }\n",
       "</style>\n",
       "<table border=\"1\" class=\"dataframe\">\n",
       "  <thead>\n",
       "    <tr style=\"text-align: right;\">\n",
       "      <th></th>\n",
       "      <th>hypothesis</th>\n",
       "      <th>ICE</th>\n",
       "    </tr>\n",
       "  </thead>\n",
       "  <tbody>\n",
       "    <tr>\n",
       "      <th>8</th>\n",
       "      <td>Запустить акцию, дающую скидку на товар в день рождения</td>\n",
       "      <td>16.200000</td>\n",
       "    </tr>\n",
       "    <tr>\n",
       "      <th>0</th>\n",
       "      <td>Добавить два новых канала привлечения трафика, что позволит привлекать на 30% больше пользователей</td>\n",
       "      <td>13.333333</td>\n",
       "    </tr>\n",
       "    <tr>\n",
       "      <th>7</th>\n",
       "      <td>Добавить форму подписки на все основные страницы, чтобы собрать базу клиентов для email-рассылок</td>\n",
       "      <td>11.200000</td>\n",
       "    </tr>\n",
       "    <tr>\n",
       "      <th>6</th>\n",
       "      <td>Показать на главной странице баннеры с актуальными акциями и распродажами, чтобы увеличить конверсию</td>\n",
       "      <td>8.000000</td>\n",
       "    </tr>\n",
       "    <tr>\n",
       "      <th>2</th>\n",
       "      <td>Добавить блоки рекомендаций товаров на сайт интернет магазина, чтобы повысить конверсию и средний чек заказа</td>\n",
       "      <td>7.000000</td>\n",
       "    </tr>\n",
       "    <tr>\n",
       "      <th>1</th>\n",
       "      <td>Запустить собственную службу доставки, что сократит срок доставки заказов</td>\n",
       "      <td>2.000000</td>\n",
       "    </tr>\n",
       "    <tr>\n",
       "      <th>5</th>\n",
       "      <td>Добавить страницу отзывов клиентов о магазине, что позволит увеличить количество заказов</td>\n",
       "      <td>1.333333</td>\n",
       "    </tr>\n",
       "    <tr>\n",
       "      <th>3</th>\n",
       "      <td>Изменить структура категорий, что увеличит конверсию, т.к. пользователи быстрее найдут нужный товар</td>\n",
       "      <td>1.125000</td>\n",
       "    </tr>\n",
       "    <tr>\n",
       "      <th>4</th>\n",
       "      <td>Изменить цвет фона главной страницы, чтобы увеличить вовлеченность пользователей</td>\n",
       "      <td>1.000000</td>\n",
       "    </tr>\n",
       "  </tbody>\n",
       "</table>\n",
       "</div>"
      ],
      "text/plain": [
       "                                                                                                     hypothesis  \\\n",
       "8                                                       Запустить акцию, дающую скидку на товар в день рождения   \n",
       "0            Добавить два новых канала привлечения трафика, что позволит привлекать на 30% больше пользователей   \n",
       "7              Добавить форму подписки на все основные страницы, чтобы собрать базу клиентов для email-рассылок   \n",
       "6          Показать на главной странице баннеры с актуальными акциями и распродажами, чтобы увеличить конверсию   \n",
       "2  Добавить блоки рекомендаций товаров на сайт интернет магазина, чтобы повысить конверсию и средний чек заказа   \n",
       "1                                     Запустить собственную службу доставки, что сократит срок доставки заказов   \n",
       "5                      Добавить страницу отзывов клиентов о магазине, что позволит увеличить количество заказов   \n",
       "3           Изменить структура категорий, что увеличит конверсию, т.к. пользователи быстрее найдут нужный товар   \n",
       "4                              Изменить цвет фона главной страницы, чтобы увеличить вовлеченность пользователей   \n",
       "\n",
       "         ICE  \n",
       "8  16.200000  \n",
       "0  13.333333  \n",
       "7  11.200000  \n",
       "6   8.000000  \n",
       "2   7.000000  \n",
       "1   2.000000  \n",
       "5   1.333333  \n",
       "3   1.125000  \n",
       "4   1.000000  "
      ]
     },
     "execution_count": 9,
     "metadata": {},
     "output_type": "execute_result"
    }
   ],
   "source": [
    "hypothesis.loc[:,['hypothesis','ICE']].sort_values(by='ICE', ascending=False)"
   ]
  },
  {
   "cell_type": "markdown",
   "metadata": {},
   "source": [
    "[⬆︎ К содержанию ⬆︎](#up)"
   ]
  },
  {
   "cell_type": "markdown",
   "metadata": {},
   "source": [
    "### 1.2 Фреймворк RICE <a class='anchor' id='12'></a>"
   ]
  },
  {
   "cell_type": "markdown",
   "metadata": {},
   "source": [
    "Рассчитаем фреймворк:"
   ]
  },
  {
   "cell_type": "code",
   "execution_count": 10,
   "metadata": {},
   "outputs": [],
   "source": [
    "hypothesis['RICE'] = hypothesis['reach'] * hypothesis['impact'] * hypothesis['confidence'] / hypothesis['efforts']"
   ]
  },
  {
   "cell_type": "markdown",
   "metadata": {},
   "source": [
    "Выведем результаты:"
   ]
  },
  {
   "cell_type": "code",
   "execution_count": 11,
   "metadata": {},
   "outputs": [
    {
     "data": {
      "text/html": [
       "<div>\n",
       "<style scoped>\n",
       "    .dataframe tbody tr th:only-of-type {\n",
       "        vertical-align: middle;\n",
       "    }\n",
       "\n",
       "    .dataframe tbody tr th {\n",
       "        vertical-align: top;\n",
       "    }\n",
       "\n",
       "    .dataframe thead th {\n",
       "        text-align: right;\n",
       "    }\n",
       "</style>\n",
       "<table border=\"1\" class=\"dataframe\">\n",
       "  <thead>\n",
       "    <tr style=\"text-align: right;\">\n",
       "      <th></th>\n",
       "      <th>hypothesis</th>\n",
       "      <th>RICE</th>\n",
       "    </tr>\n",
       "  </thead>\n",
       "  <tbody>\n",
       "    <tr>\n",
       "      <th>7</th>\n",
       "      <td>Добавить форму подписки на все основные страницы, чтобы собрать базу клиентов для email-рассылок</td>\n",
       "      <td>112.0</td>\n",
       "    </tr>\n",
       "    <tr>\n",
       "      <th>2</th>\n",
       "      <td>Добавить блоки рекомендаций товаров на сайт интернет магазина, чтобы повысить конверсию и средний чек заказа</td>\n",
       "      <td>56.0</td>\n",
       "    </tr>\n",
       "    <tr>\n",
       "      <th>0</th>\n",
       "      <td>Добавить два новых канала привлечения трафика, что позволит привлекать на 30% больше пользователей</td>\n",
       "      <td>40.0</td>\n",
       "    </tr>\n",
       "    <tr>\n",
       "      <th>6</th>\n",
       "      <td>Показать на главной странице баннеры с актуальными акциями и распродажами, чтобы увеличить конверсию</td>\n",
       "      <td>40.0</td>\n",
       "    </tr>\n",
       "    <tr>\n",
       "      <th>8</th>\n",
       "      <td>Запустить акцию, дающую скидку на товар в день рождения</td>\n",
       "      <td>16.2</td>\n",
       "    </tr>\n",
       "    <tr>\n",
       "      <th>3</th>\n",
       "      <td>Изменить структура категорий, что увеличит конверсию, т.к. пользователи быстрее найдут нужный товар</td>\n",
       "      <td>9.0</td>\n",
       "    </tr>\n",
       "    <tr>\n",
       "      <th>1</th>\n",
       "      <td>Запустить собственную службу доставки, что сократит срок доставки заказов</td>\n",
       "      <td>4.0</td>\n",
       "    </tr>\n",
       "    <tr>\n",
       "      <th>5</th>\n",
       "      <td>Добавить страницу отзывов клиентов о магазине, что позволит увеличить количество заказов</td>\n",
       "      <td>4.0</td>\n",
       "    </tr>\n",
       "    <tr>\n",
       "      <th>4</th>\n",
       "      <td>Изменить цвет фона главной страницы, чтобы увеличить вовлеченность пользователей</td>\n",
       "      <td>3.0</td>\n",
       "    </tr>\n",
       "  </tbody>\n",
       "</table>\n",
       "</div>"
      ],
      "text/plain": [
       "                                                                                                     hypothesis  \\\n",
       "7              Добавить форму подписки на все основные страницы, чтобы собрать базу клиентов для email-рассылок   \n",
       "2  Добавить блоки рекомендаций товаров на сайт интернет магазина, чтобы повысить конверсию и средний чек заказа   \n",
       "0            Добавить два новых канала привлечения трафика, что позволит привлекать на 30% больше пользователей   \n",
       "6          Показать на главной странице баннеры с актуальными акциями и распродажами, чтобы увеличить конверсию   \n",
       "8                                                       Запустить акцию, дающую скидку на товар в день рождения   \n",
       "3           Изменить структура категорий, что увеличит конверсию, т.к. пользователи быстрее найдут нужный товар   \n",
       "1                                     Запустить собственную службу доставки, что сократит срок доставки заказов   \n",
       "5                      Добавить страницу отзывов клиентов о магазине, что позволит увеличить количество заказов   \n",
       "4                              Изменить цвет фона главной страницы, чтобы увеличить вовлеченность пользователей   \n",
       "\n",
       "    RICE  \n",
       "7  112.0  \n",
       "2   56.0  \n",
       "0   40.0  \n",
       "6   40.0  \n",
       "8   16.2  \n",
       "3    9.0  \n",
       "1    4.0  \n",
       "5    4.0  \n",
       "4    3.0  "
      ]
     },
     "execution_count": 11,
     "metadata": {},
     "output_type": "execute_result"
    }
   ],
   "source": [
    "hypothesis.loc[:,['hypothesis','RICE']].sort_values(by='RICE', ascending=False)"
   ]
  },
  {
   "cell_type": "markdown",
   "metadata": {},
   "source": [
    "[⬆︎ К содержанию ⬆︎](#up)"
   ]
  },
  {
   "cell_type": "markdown",
   "metadata": {},
   "source": [
    "### 1.3 Изменение приоритизации при применении RICE вместо ICE <a class='anchor' id='13'></a>"
   ]
  },
  {
   "cell_type": "markdown",
   "metadata": {},
   "source": [
    "Рассмотрим все оценки гипотез-победителей:"
   ]
  },
  {
   "cell_type": "code",
   "execution_count": 12,
   "metadata": {},
   "outputs": [
    {
     "data": {
      "text/html": [
       "<div>\n",
       "<style scoped>\n",
       "    .dataframe tbody tr th:only-of-type {\n",
       "        vertical-align: middle;\n",
       "    }\n",
       "\n",
       "    .dataframe tbody tr th {\n",
       "        vertical-align: top;\n",
       "    }\n",
       "\n",
       "    .dataframe thead th {\n",
       "        text-align: right;\n",
       "    }\n",
       "</style>\n",
       "<table border=\"1\" class=\"dataframe\">\n",
       "  <thead>\n",
       "    <tr style=\"text-align: right;\">\n",
       "      <th></th>\n",
       "      <th>hypothesis</th>\n",
       "      <th>reach</th>\n",
       "      <th>impact</th>\n",
       "      <th>confidence</th>\n",
       "      <th>efforts</th>\n",
       "      <th>ICE</th>\n",
       "      <th>RICE</th>\n",
       "    </tr>\n",
       "  </thead>\n",
       "  <tbody>\n",
       "    <tr>\n",
       "      <th>7</th>\n",
       "      <td>Добавить форму подписки на все основные страницы, чтобы собрать базу клиентов для email-рассылок</td>\n",
       "      <td>10</td>\n",
       "      <td>7</td>\n",
       "      <td>8</td>\n",
       "      <td>5</td>\n",
       "      <td>11.2</td>\n",
       "      <td>112.0</td>\n",
       "    </tr>\n",
       "    <tr>\n",
       "      <th>8</th>\n",
       "      <td>Запустить акцию, дающую скидку на товар в день рождения</td>\n",
       "      <td>1</td>\n",
       "      <td>9</td>\n",
       "      <td>9</td>\n",
       "      <td>5</td>\n",
       "      <td>16.2</td>\n",
       "      <td>16.2</td>\n",
       "    </tr>\n",
       "  </tbody>\n",
       "</table>\n",
       "</div>"
      ],
      "text/plain": [
       "                                                                                         hypothesis  \\\n",
       "7  Добавить форму подписки на все основные страницы, чтобы собрать базу клиентов для email-рассылок   \n",
       "8                                           Запустить акцию, дающую скидку на товар в день рождения   \n",
       "\n",
       "   reach  impact  confidence  efforts   ICE   RICE  \n",
       "7     10       7           8        5  11.2  112.0  \n",
       "8      1       9           9        5  16.2   16.2  "
      ]
     },
     "execution_count": 12,
     "metadata": {},
     "output_type": "execute_result"
    }
   ],
   "source": [
    "hypothesis.loc[[8,7]].sort_values(by='RICE', ascending=False)"
   ]
  },
  {
   "cell_type": "markdown",
   "metadata": {},
   "source": [
    "###### Фреймворк ICE не учитывает параметр Reach(оценка охвата пользователей), а значит во время применения RICE у любой гипотезы с оценкой охвата больше 1 есть шанс изменить рейтинг.\n",
    "\n",
    "В нашем случае так и произошло - гипотеза с идексом №7 получила максимальную оценку охвата. Но, не смотря на то, что по оценке impact(влияние на пользователей) она проиграла 2 бала и по оценке confidence(уверенность в гипотезе) 1 балл - гипотеза №7 выбивается в абсолютные лидеры. Efforts (затраты) по оценкам одинаковые, так что с коммерческой точки зрения, вероятно эти гипотезы идентичны."
   ]
  },
  {
   "cell_type": "markdown",
   "metadata": {},
   "source": [
    "[⬆︎ К содержанию ⬆︎](#up)"
   ]
  },
  {
   "cell_type": "markdown",
   "metadata": {},
   "source": [
    "# Часть 2. Анализ A/B-теста <a class='anchor' id='2'></a>"
   ]
  },
  {
   "cell_type": "markdown",
   "metadata": {},
   "source": [
    "Подготовим данные:"
   ]
  },
  {
   "cell_type": "code",
   "execution_count": 13,
   "metadata": {
    "scrolled": true
   },
   "outputs": [
    {
     "name": "stdout",
     "output_type": "stream",
     "text": [
      "<class 'pandas.core.frame.DataFrame'>\n",
      "Int64Index: 1197 entries, 0 to 1196\n",
      "Data columns (total 5 columns):\n",
      " #   Column         Non-Null Count  Dtype \n",
      "---  ------         --------------  ----- \n",
      " 0   transactionId  1197 non-null   int64 \n",
      " 1   visitorId      1197 non-null   int64 \n",
      " 2   date           1197 non-null   object\n",
      " 3   revenue        1197 non-null   int64 \n",
      " 4   group          1197 non-null   object\n",
      "dtypes: int64(3), object(2)\n",
      "memory usage: 56.1+ KB\n"
     ]
    }
   ],
   "source": [
    "orders.info()"
   ]
  },
  {
   "cell_type": "code",
   "execution_count": 14,
   "metadata": {},
   "outputs": [],
   "source": [
    "orders.columns = ['transaction_id', 'visitor_id', 'date', 'revenue', 'group']"
   ]
  },
  {
   "cell_type": "code",
   "execution_count": 15,
   "metadata": {},
   "outputs": [
    {
     "data": {
      "text/html": [
       "<div>\n",
       "<style scoped>\n",
       "    .dataframe tbody tr th:only-of-type {\n",
       "        vertical-align: middle;\n",
       "    }\n",
       "\n",
       "    .dataframe tbody tr th {\n",
       "        vertical-align: top;\n",
       "    }\n",
       "\n",
       "    .dataframe thead th {\n",
       "        text-align: right;\n",
       "    }\n",
       "</style>\n",
       "<table border=\"1\" class=\"dataframe\">\n",
       "  <thead>\n",
       "    <tr style=\"text-align: right;\">\n",
       "      <th></th>\n",
       "      <th>transaction_id</th>\n",
       "      <th>visitor_id</th>\n",
       "      <th>date</th>\n",
       "      <th>revenue</th>\n",
       "      <th>group</th>\n",
       "    </tr>\n",
       "  </thead>\n",
       "  <tbody>\n",
       "    <tr>\n",
       "      <th>0</th>\n",
       "      <td>3667963787</td>\n",
       "      <td>3312258926</td>\n",
       "      <td>2019-08-15</td>\n",
       "      <td>1650</td>\n",
       "      <td>B</td>\n",
       "    </tr>\n",
       "    <tr>\n",
       "      <th>1</th>\n",
       "      <td>2804400009</td>\n",
       "      <td>3642806036</td>\n",
       "      <td>2019-08-15</td>\n",
       "      <td>730</td>\n",
       "      <td>B</td>\n",
       "    </tr>\n",
       "    <tr>\n",
       "      <th>2</th>\n",
       "      <td>2961555356</td>\n",
       "      <td>4069496402</td>\n",
       "      <td>2019-08-15</td>\n",
       "      <td>400</td>\n",
       "      <td>A</td>\n",
       "    </tr>\n",
       "    <tr>\n",
       "      <th>3</th>\n",
       "      <td>3797467345</td>\n",
       "      <td>1196621759</td>\n",
       "      <td>2019-08-15</td>\n",
       "      <td>9759</td>\n",
       "      <td>B</td>\n",
       "    </tr>\n",
       "    <tr>\n",
       "      <th>4</th>\n",
       "      <td>2282983706</td>\n",
       "      <td>2322279887</td>\n",
       "      <td>2019-08-15</td>\n",
       "      <td>2308</td>\n",
       "      <td>B</td>\n",
       "    </tr>\n",
       "  </tbody>\n",
       "</table>\n",
       "</div>"
      ],
      "text/plain": [
       "   transaction_id  visitor_id        date  revenue group\n",
       "0      3667963787  3312258926  2019-08-15     1650     B\n",
       "1      2804400009  3642806036  2019-08-15      730     B\n",
       "2      2961555356  4069496402  2019-08-15      400     A\n",
       "3      3797467345  1196621759  2019-08-15     9759     B\n",
       "4      2282983706  2322279887  2019-08-15     2308     B"
      ]
     },
     "execution_count": 15,
     "metadata": {},
     "output_type": "execute_result"
    }
   ],
   "source": [
    "orders.head()"
   ]
  },
  {
   "cell_type": "markdown",
   "metadata": {},
   "source": [
    "*Описание данных:*\n",
    "- **transaction_id** — идентификатор заказа;\n",
    "- **visitor_id** — идентификатор пользователя, совершившего заказ;\n",
    "- **date** — дата, когда был совершён заказ;\n",
    "- **revenue** — выручка заказа;\n",
    "- **group** — группа A/B-теста, в которую попал заказ."
   ]
  },
  {
   "cell_type": "markdown",
   "metadata": {},
   "source": [
    "---"
   ]
  },
  {
   "cell_type": "code",
   "execution_count": 16,
   "metadata": {},
   "outputs": [
    {
     "name": "stdout",
     "output_type": "stream",
     "text": [
      "<class 'pandas.core.frame.DataFrame'>\n",
      "Int64Index: 62 entries, 0 to 61\n",
      "Data columns (total 3 columns):\n",
      " #   Column    Non-Null Count  Dtype \n",
      "---  ------    --------------  ----- \n",
      " 0   date      62 non-null     object\n",
      " 1   group     62 non-null     object\n",
      " 2   visitors  62 non-null     int64 \n",
      "dtypes: int64(1), object(2)\n",
      "memory usage: 1.9+ KB\n"
     ]
    }
   ],
   "source": [
    "visitors.info()"
   ]
  },
  {
   "cell_type": "code",
   "execution_count": 17,
   "metadata": {},
   "outputs": [
    {
     "data": {
      "text/html": [
       "<div>\n",
       "<style scoped>\n",
       "    .dataframe tbody tr th:only-of-type {\n",
       "        vertical-align: middle;\n",
       "    }\n",
       "\n",
       "    .dataframe tbody tr th {\n",
       "        vertical-align: top;\n",
       "    }\n",
       "\n",
       "    .dataframe thead th {\n",
       "        text-align: right;\n",
       "    }\n",
       "</style>\n",
       "<table border=\"1\" class=\"dataframe\">\n",
       "  <thead>\n",
       "    <tr style=\"text-align: right;\">\n",
       "      <th></th>\n",
       "      <th>date</th>\n",
       "      <th>group</th>\n",
       "      <th>visitors</th>\n",
       "    </tr>\n",
       "  </thead>\n",
       "  <tbody>\n",
       "    <tr>\n",
       "      <th>0</th>\n",
       "      <td>2019-08-01</td>\n",
       "      <td>A</td>\n",
       "      <td>719</td>\n",
       "    </tr>\n",
       "    <tr>\n",
       "      <th>1</th>\n",
       "      <td>2019-08-02</td>\n",
       "      <td>A</td>\n",
       "      <td>619</td>\n",
       "    </tr>\n",
       "    <tr>\n",
       "      <th>2</th>\n",
       "      <td>2019-08-03</td>\n",
       "      <td>A</td>\n",
       "      <td>507</td>\n",
       "    </tr>\n",
       "    <tr>\n",
       "      <th>3</th>\n",
       "      <td>2019-08-04</td>\n",
       "      <td>A</td>\n",
       "      <td>717</td>\n",
       "    </tr>\n",
       "    <tr>\n",
       "      <th>4</th>\n",
       "      <td>2019-08-05</td>\n",
       "      <td>A</td>\n",
       "      <td>756</td>\n",
       "    </tr>\n",
       "  </tbody>\n",
       "</table>\n",
       "</div>"
      ],
      "text/plain": [
       "         date group  visitors\n",
       "0  2019-08-01     A       719\n",
       "1  2019-08-02     A       619\n",
       "2  2019-08-03     A       507\n",
       "3  2019-08-04     A       717\n",
       "4  2019-08-05     A       756"
      ]
     },
     "execution_count": 17,
     "metadata": {},
     "output_type": "execute_result"
    }
   ],
   "source": [
    "visitors.head()"
   ]
  },
  {
   "cell_type": "markdown",
   "metadata": {},
   "source": [
    "*Описание данных:*\n",
    "- **date** — дата;\n",
    "- **group** — группа A/B-теста;\n",
    "- **visitors** — количество пользователей в указанную дату в указанной группе A/B-теста"
   ]
  },
  {
   "cell_type": "markdown",
   "metadata": {},
   "source": [
    "---"
   ]
  },
  {
   "cell_type": "markdown",
   "metadata": {},
   "source": [
    "##### Проверка корректности и целостности данных: <a class='anchor' id='edit2'></a>"
   ]
  },
  {
   "cell_type": "markdown",
   "metadata": {},
   "source": [
    "Несоответсвие данных приложенному описанию: данные соответствую описанию (названия полей приведены к единому формату)"
   ]
  },
  {
   "cell_type": "markdown",
   "metadata": {},
   "source": [
    "Наличие дубликатов и анализ соответствия данных описанию:"
   ]
  },
  {
   "cell_type": "markdown",
   "metadata": {},
   "source": [
    "##### orders:"
   ]
  },
  {
   "cell_type": "code",
   "execution_count": 18,
   "metadata": {},
   "outputs": [
    {
     "data": {
      "text/plain": [
       "0"
      ]
     },
     "execution_count": 18,
     "metadata": {},
     "output_type": "execute_result"
    }
   ],
   "source": [
    "orders.duplicated().sum()"
   ]
  },
  {
   "cell_type": "code",
   "execution_count": 19,
   "metadata": {},
   "outputs": [
    {
     "data": {
      "text/plain": [
       "1197"
      ]
     },
     "execution_count": 19,
     "metadata": {},
     "output_type": "execute_result"
    }
   ],
   "source": [
    "len(orders)"
   ]
  },
  {
   "cell_type": "code",
   "execution_count": 20,
   "metadata": {},
   "outputs": [
    {
     "data": {
      "text/plain": [
       "transaction_id    1197\n",
       "visitor_id        1031\n",
       "date                31\n",
       "revenue            713\n",
       "group                2\n",
       "dtype: int64"
      ]
     },
     "execution_count": 20,
     "metadata": {},
     "output_type": "execute_result"
    }
   ],
   "source": [
    "orders.nunique()"
   ]
  },
  {
   "cell_type": "markdown",
   "metadata": {},
   "source": [
    "В таблице orders полные дубликаты отсутствуют. Длина датафрейма соответствует количеству транзакций. В после group представлено две уникальных категории, как и ожидалось."
   ]
  },
  {
   "cell_type": "code",
   "execution_count": 21,
   "metadata": {},
   "outputs": [
    {
     "data": {
      "text/html": [
       "<div>\n",
       "<style scoped>\n",
       "    .dataframe tbody tr th:only-of-type {\n",
       "        vertical-align: middle;\n",
       "    }\n",
       "\n",
       "    .dataframe tbody tr th {\n",
       "        vertical-align: top;\n",
       "    }\n",
       "\n",
       "    .dataframe thead th {\n",
       "        text-align: right;\n",
       "    }\n",
       "</style>\n",
       "<table border=\"1\" class=\"dataframe\">\n",
       "  <thead>\n",
       "    <tr style=\"text-align: right;\">\n",
       "      <th></th>\n",
       "      <th>transaction_id</th>\n",
       "      <th>visitor_id</th>\n",
       "      <th>date</th>\n",
       "      <th>revenue</th>\n",
       "      <th>group</th>\n",
       "    </tr>\n",
       "  </thead>\n",
       "  <tbody>\n",
       "    <tr>\n",
       "      <th>276</th>\n",
       "      <td>1634965106</td>\n",
       "      <td>281523083</td>\n",
       "      <td>2019-08-23</td>\n",
       "      <td>2290</td>\n",
       "      <td>A</td>\n",
       "    </tr>\n",
       "    <tr>\n",
       "      <th>471</th>\n",
       "      <td>798048333</td>\n",
       "      <td>3462462738</td>\n",
       "      <td>2019-08-03</td>\n",
       "      <td>2490</td>\n",
       "      <td>A</td>\n",
       "    </tr>\n",
       "    <tr>\n",
       "      <th>103</th>\n",
       "      <td>2951399376</td>\n",
       "      <td>2019355024</td>\n",
       "      <td>2019-08-01</td>\n",
       "      <td>2550</td>\n",
       "      <td>B</td>\n",
       "    </tr>\n",
       "    <tr>\n",
       "      <th>854</th>\n",
       "      <td>2865895399</td>\n",
       "      <td>1732269954</td>\n",
       "      <td>2019-08-27</td>\n",
       "      <td>760</td>\n",
       "      <td>A</td>\n",
       "    </tr>\n",
       "    <tr>\n",
       "      <th>943</th>\n",
       "      <td>1215018444</td>\n",
       "      <td>2406897935</td>\n",
       "      <td>2019-08-08</td>\n",
       "      <td>18350</td>\n",
       "      <td>B</td>\n",
       "    </tr>\n",
       "    <tr>\n",
       "      <th>212</th>\n",
       "      <td>1764119908</td>\n",
       "      <td>3332057097</td>\n",
       "      <td>2019-08-02</td>\n",
       "      <td>2820</td>\n",
       "      <td>B</td>\n",
       "    </tr>\n",
       "    <tr>\n",
       "      <th>13</th>\n",
       "      <td>3044797713</td>\n",
       "      <td>728063420</td>\n",
       "      <td>2019-08-15</td>\n",
       "      <td>11985</td>\n",
       "      <td>B</td>\n",
       "    </tr>\n",
       "    <tr>\n",
       "      <th>1153</th>\n",
       "      <td>2764584088</td>\n",
       "      <td>1562205279</td>\n",
       "      <td>2019-08-14</td>\n",
       "      <td>2955</td>\n",
       "      <td>B</td>\n",
       "    </tr>\n",
       "    <tr>\n",
       "      <th>1017</th>\n",
       "      <td>1729012139</td>\n",
       "      <td>3613900590</td>\n",
       "      <td>2019-08-31</td>\n",
       "      <td>13070</td>\n",
       "      <td>A</td>\n",
       "    </tr>\n",
       "    <tr>\n",
       "      <th>406</th>\n",
       "      <td>1441855393</td>\n",
       "      <td>1404934699</td>\n",
       "      <td>2019-08-03</td>\n",
       "      <td>26980</td>\n",
       "      <td>B</td>\n",
       "    </tr>\n",
       "  </tbody>\n",
       "</table>\n",
       "</div>"
      ],
      "text/plain": [
       "      transaction_id  visitor_id        date  revenue group\n",
       "276       1634965106   281523083  2019-08-23     2290     A\n",
       "471        798048333  3462462738  2019-08-03     2490     A\n",
       "103       2951399376  2019355024  2019-08-01     2550     B\n",
       "854       2865895399  1732269954  2019-08-27      760     A\n",
       "943       1215018444  2406897935  2019-08-08    18350     B\n",
       "212       1764119908  3332057097  2019-08-02     2820     B\n",
       "13        3044797713   728063420  2019-08-15    11985     B\n",
       "1153      2764584088  1562205279  2019-08-14     2955     B\n",
       "1017      1729012139  3613900590  2019-08-31    13070     A\n",
       "406       1441855393  1404934699  2019-08-03    26980     B"
      ]
     },
     "execution_count": 21,
     "metadata": {},
     "output_type": "execute_result"
    }
   ],
   "source": [
    "orders.sample(10)"
   ]
  },
  {
   "cell_type": "markdown",
   "metadata": {},
   "source": [
    "В случайной выборке все данные соответствуют представленному описанию."
   ]
  },
  {
   "cell_type": "code",
   "execution_count": 22,
   "metadata": {},
   "outputs": [
    {
     "name": "stdout",
     "output_type": "stream",
     "text": [
      "Исследуемый период с 2019-08-01 по 2019-08-31\n"
     ]
    }
   ],
   "source": [
    "print('Исследуемый период с', orders['date'].min(), 'по', orders['date'].max())"
   ]
  },
  {
   "cell_type": "markdown",
   "metadata": {},
   "source": [
    "Аномалии и проверка на логику:"
   ]
  },
  {
   "cell_type": "code",
   "execution_count": 23,
   "metadata": {},
   "outputs": [
    {
     "data": {
      "text/plain": [
       "array([3667963787, 2804400009, 2961555356, ..., 1807773912, 1947021204,\n",
       "       3936777065])"
      ]
     },
     "execution_count": 23,
     "metadata": {},
     "output_type": "execute_result"
    }
   ],
   "source": [
    "orders['transaction_id'].unique()"
   ]
  },
  {
   "cell_type": "code",
   "execution_count": 24,
   "metadata": {},
   "outputs": [
    {
     "data": {
      "text/plain": [
       "array([3312258926, 3642806036, 4069496402, ...,  370388673,  573423106,\n",
       "       2108080724])"
      ]
     },
     "execution_count": 24,
     "metadata": {},
     "output_type": "execute_result"
    }
   ],
   "source": [
    "orders['visitor_id'].unique()"
   ]
  },
  {
   "cell_type": "code",
   "execution_count": 25,
   "metadata": {},
   "outputs": [
    {
     "data": {
      "text/plain": [
       "count           1197\n",
       "unique            31\n",
       "top       2019-08-05\n",
       "freq              48\n",
       "Name: date, dtype: object"
      ]
     },
     "execution_count": 25,
     "metadata": {},
     "output_type": "execute_result"
    }
   ],
   "source": [
    "orders['date'].describe()"
   ]
  },
  {
   "cell_type": "code",
   "execution_count": 26,
   "metadata": {},
   "outputs": [
    {
     "data": {
      "text/plain": [
       "count    1.197000e+03\n",
       "mean     8.348006e+03\n",
       "std      3.919113e+04\n",
       "min      5.000000e+01\n",
       "25%      1.220000e+03\n",
       "50%      2.978000e+03\n",
       "75%      8.290000e+03\n",
       "max      1.294500e+06\n",
       "Name: revenue, dtype: float64"
      ]
     },
     "execution_count": 26,
     "metadata": {},
     "output_type": "execute_result"
    }
   ],
   "source": [
    "orders['revenue'].describe()"
   ]
  },
  {
   "cell_type": "code",
   "execution_count": 27,
   "metadata": {},
   "outputs": [
    {
     "data": {
      "image/png": "[encoded data removed]",
      "text/plain": [
       "<Figure size 432x288 with 1 Axes>"
      ]
     },
     "metadata": {
      "needs_background": "light"
     },
     "output_type": "display_data"
    }
   ],
   "source": [
    "orders['revenue'].hist(bins=50);"
   ]
  },
  {
   "cell_type": "markdown",
   "metadata": {},
   "source": [
    "Верхняя граница выбросов 15360 (Q3+1.5IQR). Гистограмма показывает что самые частые суммы покупов сосредоточились около 15000."
   ]
  },
  {
   "cell_type": "code",
   "execution_count": 28,
   "metadata": {},
   "outputs": [
    {
     "data": {
      "text/plain": [
       "array(['B', 'A'], dtype=object)"
      ]
     },
     "execution_count": 28,
     "metadata": {},
     "output_type": "execute_result"
    }
   ],
   "source": [
    "orders['group'].unique()"
   ]
  },
  {
   "cell_type": "markdown",
   "metadata": {},
   "source": [
    "Других групп в тесте не представлено."
   ]
  },
  {
   "cell_type": "markdown",
   "metadata": {},
   "source": [
    "##### visitors:"
   ]
  },
  {
   "cell_type": "code",
   "execution_count": 29,
   "metadata": {},
   "outputs": [
    {
     "data": {
      "text/plain": [
       "0"
      ]
     },
     "execution_count": 29,
     "metadata": {},
     "output_type": "execute_result"
    }
   ],
   "source": [
    "visitors.duplicated().sum()"
   ]
  },
  {
   "cell_type": "code",
   "execution_count": 30,
   "metadata": {},
   "outputs": [
    {
     "data": {
      "text/plain": [
       "62"
      ]
     },
     "execution_count": 30,
     "metadata": {},
     "output_type": "execute_result"
    }
   ],
   "source": [
    "len(visitors)"
   ]
  },
  {
   "cell_type": "code",
   "execution_count": 31,
   "metadata": {},
   "outputs": [
    {
     "data": {
      "text/plain": [
       "date        31\n",
       "group        2\n",
       "visitors    58\n",
       "dtype: int64"
      ]
     },
     "execution_count": 31,
     "metadata": {},
     "output_type": "execute_result"
    }
   ],
   "source": [
    "visitors.nunique()"
   ]
  },
  {
   "cell_type": "markdown",
   "metadata": {},
   "source": [
    "В таблице visitors полные дубликаты так же отсутсвуют. Однако смутило что длина датафрема в 62 элемента не соттветсвует количеству уникальных посетителей)."
   ]
  },
  {
   "cell_type": "code",
   "execution_count": 32,
   "metadata": {},
   "outputs": [
    {
     "data": {
      "text/plain": [
       "count             62\n",
       "unique            31\n",
       "top       2019-08-17\n",
       "freq               2\n",
       "Name: date, dtype: object"
      ]
     },
     "execution_count": 32,
     "metadata": {},
     "output_type": "execute_result"
    }
   ],
   "source": [
    "visitors['date'].describe()"
   ]
  },
  {
   "cell_type": "code",
   "execution_count": 33,
   "metadata": {},
   "outputs": [
    {
     "data": {
      "text/plain": [
       "array(['A', 'B'], dtype=object)"
      ]
     },
     "execution_count": 33,
     "metadata": {},
     "output_type": "execute_result"
    }
   ],
   "source": [
    "visitors['group'].unique()"
   ]
  },
  {
   "cell_type": "markdown",
   "metadata": {},
   "source": [
    "Представлены 2 уникальные группы, как и заявлено в условии."
   ]
  },
  {
   "cell_type": "code",
   "execution_count": 34,
   "metadata": {},
   "outputs": [
    {
     "data": {
      "text/html": [
       "<div>\n",
       "<style scoped>\n",
       "    .dataframe tbody tr th:only-of-type {\n",
       "        vertical-align: middle;\n",
       "    }\n",
       "\n",
       "    .dataframe tbody tr th {\n",
       "        vertical-align: top;\n",
       "    }\n",
       "\n",
       "    .dataframe thead th {\n",
       "        text-align: right;\n",
       "    }\n",
       "</style>\n",
       "<table border=\"1\" class=\"dataframe\">\n",
       "  <thead>\n",
       "    <tr style=\"text-align: right;\">\n",
       "      <th></th>\n",
       "      <th>date</th>\n",
       "      <th>group</th>\n",
       "      <th>visitors</th>\n",
       "    </tr>\n",
       "  </thead>\n",
       "  <tbody>\n",
       "    <tr>\n",
       "      <th>39</th>\n",
       "      <td>2019-08-09</td>\n",
       "      <td>B</td>\n",
       "      <td>610</td>\n",
       "    </tr>\n",
       "    <tr>\n",
       "      <th>58</th>\n",
       "      <td>2019-08-28</td>\n",
       "      <td>B</td>\n",
       "      <td>654</td>\n",
       "    </tr>\n",
       "    <tr>\n",
       "      <th>60</th>\n",
       "      <td>2019-08-30</td>\n",
       "      <td>B</td>\n",
       "      <td>490</td>\n",
       "    </tr>\n",
       "    <tr>\n",
       "      <th>61</th>\n",
       "      <td>2019-08-31</td>\n",
       "      <td>B</td>\n",
       "      <td>718</td>\n",
       "    </tr>\n",
       "  </tbody>\n",
       "</table>\n",
       "</div>"
      ],
      "text/plain": [
       "          date group  visitors\n",
       "39  2019-08-09     B       610\n",
       "58  2019-08-28     B       654\n",
       "60  2019-08-30     B       490\n",
       "61  2019-08-31     B       718"
      ]
     },
     "execution_count": 34,
     "metadata": {},
     "output_type": "execute_result"
    }
   ],
   "source": [
    "visitors[visitors['visitors'].duplicated()]"
   ]
  },
  {
   "cell_type": "markdown",
   "metadata": {},
   "source": [
    "Эти 4 пользвователя посетили ресурс дважды. Но поскольку нас интересует количство пользователей на дату, а уникальность в данном случае не играет роли, то дубликаты мы удалять не будем."
   ]
  },
  {
   "cell_type": "markdown",
   "metadata": {},
   "source": [
    "[⬆︎ К содержанию ⬆︎](#up)"
   ]
  },
  {
   "cell_type": "markdown",
   "metadata": {},
   "source": [
    "### 2.1 График кумулятивной выручки по группам <a class='anchor' id='21'></a>"
   ]
  },
  {
   "cell_type": "markdown",
   "metadata": {},
   "source": [
    "Создадим массив уникальны пар дат и групп:"
   ]
  },
  {
   "cell_type": "code",
   "execution_count": 35,
   "metadata": {
    "scrolled": false
   },
   "outputs": [
    {
     "data": {
      "text/html": [
       "<div>\n",
       "<style scoped>\n",
       "    .dataframe tbody tr th:only-of-type {\n",
       "        vertical-align: middle;\n",
       "    }\n",
       "\n",
       "    .dataframe tbody tr th {\n",
       "        vertical-align: top;\n",
       "    }\n",
       "\n",
       "    .dataframe thead th {\n",
       "        text-align: right;\n",
       "    }\n",
       "</style>\n",
       "<table border=\"1\" class=\"dataframe\">\n",
       "  <thead>\n",
       "    <tr style=\"text-align: right;\">\n",
       "      <th></th>\n",
       "      <th>date</th>\n",
       "      <th>group</th>\n",
       "    </tr>\n",
       "  </thead>\n",
       "  <tbody>\n",
       "    <tr>\n",
       "      <th>0</th>\n",
       "      <td>2019-08-15</td>\n",
       "      <td>B</td>\n",
       "    </tr>\n",
       "    <tr>\n",
       "      <th>2</th>\n",
       "      <td>2019-08-15</td>\n",
       "      <td>A</td>\n",
       "    </tr>\n",
       "    <tr>\n",
       "      <th>45</th>\n",
       "      <td>2019-08-16</td>\n",
       "      <td>A</td>\n",
       "    </tr>\n",
       "    <tr>\n",
       "      <th>47</th>\n",
       "      <td>2019-08-16</td>\n",
       "      <td>B</td>\n",
       "    </tr>\n",
       "    <tr>\n",
       "      <th>55</th>\n",
       "      <td>2019-08-01</td>\n",
       "      <td>A</td>\n",
       "    </tr>\n",
       "    <tr>\n",
       "      <th>...</th>\n",
       "      <td>...</td>\n",
       "      <td>...</td>\n",
       "    </tr>\n",
       "    <tr>\n",
       "      <th>1068</th>\n",
       "      <td>2019-08-12</td>\n",
       "      <td>A</td>\n",
       "    </tr>\n",
       "    <tr>\n",
       "      <th>1114</th>\n",
       "      <td>2019-08-13</td>\n",
       "      <td>B</td>\n",
       "    </tr>\n",
       "    <tr>\n",
       "      <th>1116</th>\n",
       "      <td>2019-08-13</td>\n",
       "      <td>A</td>\n",
       "    </tr>\n",
       "    <tr>\n",
       "      <th>1149</th>\n",
       "      <td>2019-08-14</td>\n",
       "      <td>B</td>\n",
       "    </tr>\n",
       "    <tr>\n",
       "      <th>1150</th>\n",
       "      <td>2019-08-14</td>\n",
       "      <td>A</td>\n",
       "    </tr>\n",
       "  </tbody>\n",
       "</table>\n",
       "<p>62 rows × 2 columns</p>\n",
       "</div>"
      ],
      "text/plain": [
       "            date group\n",
       "0     2019-08-15     B\n",
       "2     2019-08-15     A\n",
       "45    2019-08-16     A\n",
       "47    2019-08-16     B\n",
       "55    2019-08-01     A\n",
       "...          ...   ...\n",
       "1068  2019-08-12     A\n",
       "1114  2019-08-13     B\n",
       "1116  2019-08-13     A\n",
       "1149  2019-08-14     B\n",
       "1150  2019-08-14     A\n",
       "\n",
       "[62 rows x 2 columns]"
      ]
     },
     "execution_count": 35,
     "metadata": {},
     "output_type": "execute_result"
    }
   ],
   "source": [
    "dates_groups = orders[['date','group']].drop_duplicates()\n",
    "dates_groups"
   ]
  },
  {
   "cell_type": "markdown",
   "metadata": {},
   "source": [
    "Получим агрегированные кумулятивные по дням данные о заказах:"
   ]
  },
  {
   "cell_type": "code",
   "execution_count": 36,
   "metadata": {},
   "outputs": [
    {
     "data": {
      "text/html": [
       "<div>\n",
       "<style scoped>\n",
       "    .dataframe tbody tr th:only-of-type {\n",
       "        vertical-align: middle;\n",
       "    }\n",
       "\n",
       "    .dataframe tbody tr th {\n",
       "        vertical-align: top;\n",
       "    }\n",
       "\n",
       "    .dataframe thead th {\n",
       "        text-align: right;\n",
       "    }\n",
       "</style>\n",
       "<table border=\"1\" class=\"dataframe\">\n",
       "  <thead>\n",
       "    <tr style=\"text-align: right;\">\n",
       "      <th></th>\n",
       "      <th>date</th>\n",
       "      <th>group</th>\n",
       "      <th>transaction_id</th>\n",
       "      <th>visitor_id</th>\n",
       "      <th>revenue</th>\n",
       "    </tr>\n",
       "  </thead>\n",
       "  <tbody>\n",
       "    <tr>\n",
       "      <th>55</th>\n",
       "      <td>2019-08-01</td>\n",
       "      <td>A</td>\n",
       "      <td>24</td>\n",
       "      <td>20</td>\n",
       "      <td>148579</td>\n",
       "    </tr>\n",
       "    <tr>\n",
       "      <th>66</th>\n",
       "      <td>2019-08-01</td>\n",
       "      <td>B</td>\n",
       "      <td>21</td>\n",
       "      <td>20</td>\n",
       "      <td>101217</td>\n",
       "    </tr>\n",
       "    <tr>\n",
       "      <th>175</th>\n",
       "      <td>2019-08-02</td>\n",
       "      <td>A</td>\n",
       "      <td>44</td>\n",
       "      <td>38</td>\n",
       "      <td>242401</td>\n",
       "    </tr>\n",
       "    <tr>\n",
       "      <th>173</th>\n",
       "      <td>2019-08-02</td>\n",
       "      <td>B</td>\n",
       "      <td>45</td>\n",
       "      <td>43</td>\n",
       "      <td>266748</td>\n",
       "    </tr>\n",
       "    <tr>\n",
       "      <th>291</th>\n",
       "      <td>2019-08-03</td>\n",
       "      <td>A</td>\n",
       "      <td>68</td>\n",
       "      <td>62</td>\n",
       "      <td>354874</td>\n",
       "    </tr>\n",
       "    <tr>\n",
       "      <th>...</th>\n",
       "      <td>...</td>\n",
       "      <td>...</td>\n",
       "      <td>...</td>\n",
       "      <td>...</td>\n",
       "      <td>...</td>\n",
       "    </tr>\n",
       "    <tr>\n",
       "      <th>496</th>\n",
       "      <td>2019-08-29</td>\n",
       "      <td>B</td>\n",
       "      <td>596</td>\n",
       "      <td>544</td>\n",
       "      <td>5559398</td>\n",
       "    </tr>\n",
       "    <tr>\n",
       "      <th>730</th>\n",
       "      <td>2019-08-30</td>\n",
       "      <td>A</td>\n",
       "      <td>545</td>\n",
       "      <td>493</td>\n",
       "      <td>4022970</td>\n",
       "    </tr>\n",
       "    <tr>\n",
       "      <th>690</th>\n",
       "      <td>2019-08-30</td>\n",
       "      <td>B</td>\n",
       "      <td>620</td>\n",
       "      <td>567</td>\n",
       "      <td>5774631</td>\n",
       "    </tr>\n",
       "    <tr>\n",
       "      <th>958</th>\n",
       "      <td>2019-08-31</td>\n",
       "      <td>A</td>\n",
       "      <td>557</td>\n",
       "      <td>503</td>\n",
       "      <td>4084803</td>\n",
       "    </tr>\n",
       "    <tr>\n",
       "      <th>930</th>\n",
       "      <td>2019-08-31</td>\n",
       "      <td>B</td>\n",
       "      <td>640</td>\n",
       "      <td>586</td>\n",
       "      <td>5907760</td>\n",
       "    </tr>\n",
       "  </tbody>\n",
       "</table>\n",
       "<p>62 rows × 5 columns</p>\n",
       "</div>"
      ],
      "text/plain": [
       "           date group  transaction_id  visitor_id  revenue\n",
       "55   2019-08-01     A              24          20   148579\n",
       "66   2019-08-01     B              21          20   101217\n",
       "175  2019-08-02     A              44          38   242401\n",
       "173  2019-08-02     B              45          43   266748\n",
       "291  2019-08-03     A              68          62   354874\n",
       "..          ...   ...             ...         ...      ...\n",
       "496  2019-08-29     B             596         544  5559398\n",
       "730  2019-08-30     A             545         493  4022970\n",
       "690  2019-08-30     B             620         567  5774631\n",
       "958  2019-08-31     A             557         503  4084803\n",
       "930  2019-08-31     B             640         586  5907760\n",
       "\n",
       "[62 rows x 5 columns]"
      ]
     },
     "execution_count": 36,
     "metadata": {},
     "output_type": "execute_result"
    }
   ],
   "source": [
    "orders_aggregated = dates_groups.apply(\n",
    "    lambda x: orders[(orders['date'] <= x['date']) & (orders['group'] == x['group'])].agg(\n",
    "        {'date':'max', 'group':'max', 'transaction_id': 'nunique', \n",
    "         'visitor_id': 'nunique', 'revenue':'sum'}),\n",
    "            axis=1).sort_values(by=['date', 'group'])\n",
    "orders_aggregated"
   ]
  },
  {
   "cell_type": "markdown",
   "metadata": {},
   "source": [
    "Получаем агрегированные кумулятивные по дням данные о посетителях:"
   ]
  },
  {
   "cell_type": "code",
   "execution_count": 37,
   "metadata": {},
   "outputs": [
    {
     "data": {
      "text/html": [
       "<div>\n",
       "<style scoped>\n",
       "    .dataframe tbody tr th:only-of-type {\n",
       "        vertical-align: middle;\n",
       "    }\n",
       "\n",
       "    .dataframe tbody tr th {\n",
       "        vertical-align: top;\n",
       "    }\n",
       "\n",
       "    .dataframe thead th {\n",
       "        text-align: right;\n",
       "    }\n",
       "</style>\n",
       "<table border=\"1\" class=\"dataframe\">\n",
       "  <thead>\n",
       "    <tr style=\"text-align: right;\">\n",
       "      <th></th>\n",
       "      <th>date</th>\n",
       "      <th>group</th>\n",
       "      <th>visitors</th>\n",
       "    </tr>\n",
       "  </thead>\n",
       "  <tbody>\n",
       "    <tr>\n",
       "      <th>55</th>\n",
       "      <td>2019-08-01</td>\n",
       "      <td>A</td>\n",
       "      <td>719</td>\n",
       "    </tr>\n",
       "    <tr>\n",
       "      <th>66</th>\n",
       "      <td>2019-08-01</td>\n",
       "      <td>B</td>\n",
       "      <td>713</td>\n",
       "    </tr>\n",
       "    <tr>\n",
       "      <th>175</th>\n",
       "      <td>2019-08-02</td>\n",
       "      <td>A</td>\n",
       "      <td>1338</td>\n",
       "    </tr>\n",
       "    <tr>\n",
       "      <th>173</th>\n",
       "      <td>2019-08-02</td>\n",
       "      <td>B</td>\n",
       "      <td>1294</td>\n",
       "    </tr>\n",
       "    <tr>\n",
       "      <th>291</th>\n",
       "      <td>2019-08-03</td>\n",
       "      <td>A</td>\n",
       "      <td>1845</td>\n",
       "    </tr>\n",
       "    <tr>\n",
       "      <th>...</th>\n",
       "      <td>...</td>\n",
       "      <td>...</td>\n",
       "      <td>...</td>\n",
       "    </tr>\n",
       "    <tr>\n",
       "      <th>496</th>\n",
       "      <td>2019-08-29</td>\n",
       "      <td>B</td>\n",
       "      <td>17708</td>\n",
       "    </tr>\n",
       "    <tr>\n",
       "      <th>730</th>\n",
       "      <td>2019-08-30</td>\n",
       "      <td>A</td>\n",
       "      <td>18037</td>\n",
       "    </tr>\n",
       "    <tr>\n",
       "      <th>690</th>\n",
       "      <td>2019-08-30</td>\n",
       "      <td>B</td>\n",
       "      <td>18198</td>\n",
       "    </tr>\n",
       "    <tr>\n",
       "      <th>958</th>\n",
       "      <td>2019-08-31</td>\n",
       "      <td>A</td>\n",
       "      <td>18736</td>\n",
       "    </tr>\n",
       "    <tr>\n",
       "      <th>930</th>\n",
       "      <td>2019-08-31</td>\n",
       "      <td>B</td>\n",
       "      <td>18916</td>\n",
       "    </tr>\n",
       "  </tbody>\n",
       "</table>\n",
       "<p>62 rows × 3 columns</p>\n",
       "</div>"
      ],
      "text/plain": [
       "           date group  visitors\n",
       "55   2019-08-01     A       719\n",
       "66   2019-08-01     B       713\n",
       "175  2019-08-02     A      1338\n",
       "173  2019-08-02     B      1294\n",
       "291  2019-08-03     A      1845\n",
       "..          ...   ...       ...\n",
       "496  2019-08-29     B     17708\n",
       "730  2019-08-30     A     18037\n",
       "690  2019-08-30     B     18198\n",
       "958  2019-08-31     A     18736\n",
       "930  2019-08-31     B     18916\n",
       "\n",
       "[62 rows x 3 columns]"
      ]
     },
     "execution_count": 37,
     "metadata": {},
     "output_type": "execute_result"
    }
   ],
   "source": [
    "visitors_aggregated = dates_groups.apply(\n",
    "    lambda x: visitors[(visitors['date'] <= x['date']) & (visitors['group'] == x['group'])].agg(\n",
    "        {'date':'max', 'group':'max', 'visitors':'sum'}),axis=1).sort_values(by=['date', 'group'])\n",
    "visitors_aggregated"
   ]
  },
  {
   "cell_type": "markdown",
   "metadata": {},
   "source": [
    "Объединим агрегированные кумулятивные по дням данные о посетителях:"
   ]
  },
  {
   "cell_type": "code",
   "execution_count": 38,
   "metadata": {},
   "outputs": [
    {
     "data": {
      "text/html": [
       "<div>\n",
       "<style scoped>\n",
       "    .dataframe tbody tr th:only-of-type {\n",
       "        vertical-align: middle;\n",
       "    }\n",
       "\n",
       "    .dataframe tbody tr th {\n",
       "        vertical-align: top;\n",
       "    }\n",
       "\n",
       "    .dataframe thead th {\n",
       "        text-align: right;\n",
       "    }\n",
       "</style>\n",
       "<table border=\"1\" class=\"dataframe\">\n",
       "  <thead>\n",
       "    <tr style=\"text-align: right;\">\n",
       "      <th></th>\n",
       "      <th>date</th>\n",
       "      <th>group</th>\n",
       "      <th>orders</th>\n",
       "      <th>buyers</th>\n",
       "      <th>revenue</th>\n",
       "      <th>visitors</th>\n",
       "    </tr>\n",
       "  </thead>\n",
       "  <tbody>\n",
       "    <tr>\n",
       "      <th>0</th>\n",
       "      <td>2019-08-01</td>\n",
       "      <td>A</td>\n",
       "      <td>24</td>\n",
       "      <td>20</td>\n",
       "      <td>148579</td>\n",
       "      <td>719</td>\n",
       "    </tr>\n",
       "    <tr>\n",
       "      <th>1</th>\n",
       "      <td>2019-08-01</td>\n",
       "      <td>B</td>\n",
       "      <td>21</td>\n",
       "      <td>20</td>\n",
       "      <td>101217</td>\n",
       "      <td>713</td>\n",
       "    </tr>\n",
       "    <tr>\n",
       "      <th>2</th>\n",
       "      <td>2019-08-02</td>\n",
       "      <td>A</td>\n",
       "      <td>44</td>\n",
       "      <td>38</td>\n",
       "      <td>242401</td>\n",
       "      <td>1338</td>\n",
       "    </tr>\n",
       "    <tr>\n",
       "      <th>3</th>\n",
       "      <td>2019-08-02</td>\n",
       "      <td>B</td>\n",
       "      <td>45</td>\n",
       "      <td>43</td>\n",
       "      <td>266748</td>\n",
       "      <td>1294</td>\n",
       "    </tr>\n",
       "    <tr>\n",
       "      <th>4</th>\n",
       "      <td>2019-08-03</td>\n",
       "      <td>A</td>\n",
       "      <td>68</td>\n",
       "      <td>62</td>\n",
       "      <td>354874</td>\n",
       "      <td>1845</td>\n",
       "    </tr>\n",
       "    <tr>\n",
       "      <th>...</th>\n",
       "      <td>...</td>\n",
       "      <td>...</td>\n",
       "      <td>...</td>\n",
       "      <td>...</td>\n",
       "      <td>...</td>\n",
       "      <td>...</td>\n",
       "    </tr>\n",
       "    <tr>\n",
       "      <th>57</th>\n",
       "      <td>2019-08-29</td>\n",
       "      <td>B</td>\n",
       "      <td>596</td>\n",
       "      <td>544</td>\n",
       "      <td>5559398</td>\n",
       "      <td>17708</td>\n",
       "    </tr>\n",
       "    <tr>\n",
       "      <th>58</th>\n",
       "      <td>2019-08-30</td>\n",
       "      <td>A</td>\n",
       "      <td>545</td>\n",
       "      <td>493</td>\n",
       "      <td>4022970</td>\n",
       "      <td>18037</td>\n",
       "    </tr>\n",
       "    <tr>\n",
       "      <th>59</th>\n",
       "      <td>2019-08-30</td>\n",
       "      <td>B</td>\n",
       "      <td>620</td>\n",
       "      <td>567</td>\n",
       "      <td>5774631</td>\n",
       "      <td>18198</td>\n",
       "    </tr>\n",
       "    <tr>\n",
       "      <th>60</th>\n",
       "      <td>2019-08-31</td>\n",
       "      <td>A</td>\n",
       "      <td>557</td>\n",
       "      <td>503</td>\n",
       "      <td>4084803</td>\n",
       "      <td>18736</td>\n",
       "    </tr>\n",
       "    <tr>\n",
       "      <th>61</th>\n",
       "      <td>2019-08-31</td>\n",
       "      <td>B</td>\n",
       "      <td>640</td>\n",
       "      <td>586</td>\n",
       "      <td>5907760</td>\n",
       "      <td>18916</td>\n",
       "    </tr>\n",
       "  </tbody>\n",
       "</table>\n",
       "<p>62 rows × 6 columns</p>\n",
       "</div>"
      ],
      "text/plain": [
       "          date group  orders  buyers  revenue  visitors\n",
       "0   2019-08-01     A      24      20   148579       719\n",
       "1   2019-08-01     B      21      20   101217       713\n",
       "2   2019-08-02     A      44      38   242401      1338\n",
       "3   2019-08-02     B      45      43   266748      1294\n",
       "4   2019-08-03     A      68      62   354874      1845\n",
       "..         ...   ...     ...     ...      ...       ...\n",
       "57  2019-08-29     B     596     544  5559398     17708\n",
       "58  2019-08-30     A     545     493  4022970     18037\n",
       "59  2019-08-30     B     620     567  5774631     18198\n",
       "60  2019-08-31     A     557     503  4084803     18736\n",
       "61  2019-08-31     B     640     586  5907760     18916\n",
       "\n",
       "[62 rows x 6 columns]"
      ]
     },
     "execution_count": 38,
     "metadata": {},
     "output_type": "execute_result"
    }
   ],
   "source": [
    "cummulative_data = orders_aggregated.merge(visitors_aggregated, left_on=['date', 'group'], right_on=['date','group'])\n",
    "cummulative_data.columns = ['date', 'group', 'orders', 'buyers', 'revenue', 'visitors']\n",
    "cummulative_data"
   ]
  },
  {
   "cell_type": "markdown",
   "metadata": {},
   "source": [
    "Построим графики кумулятивной выручки по группам А и B:"
   ]
  },
  {
   "cell_type": "code",
   "execution_count": 39,
   "metadata": {},
   "outputs": [
    {
     "data": {
      "image/png": "[encoded data removed]",
      "text/plain": [
       "<Figure size 1224x504 with 1 Axes>"
      ]
     },
     "metadata": {
      "needs_background": "light"
     },
     "output_type": "display_data"
    }
   ],
   "source": [
    "plt.figure(figsize=(17,7))\n",
    "plt.title('Кумулятивная выручка')\n",
    "sns.lineplot(x='date', y='revenue', hue='group', data=cummulative_data).set_xticklabels(\n",
    "    cummulative_data['date'].drop_duplicates(),rotation=45)\n",
    "plt.xlabel('дата')\n",
    "plt.ylabel('выручка');"
   ]
  },
  {
   "cell_type": "markdown",
   "metadata": {},
   "source": [
    "Выручка равномерно увеличивается до 18 августа, после чего группа B начинает приносить ощутимо более высокий доход. Либо это большое увеличение числа заказов, либо появление очень дорогих заказов."
   ]
  },
  {
   "cell_type": "markdown",
   "metadata": {},
   "source": [
    "[⬆︎ К содержанию ⬆︎](#up)"
   ]
  },
  {
   "cell_type": "markdown",
   "metadata": {},
   "source": [
    "### 2.2 График кумулятивного среднего чека по группам <a class='anchor' id='22'></a>"
   ]
  },
  {
   "cell_type": "markdown",
   "metadata": {},
   "source": [
    "Вычислим средний чек:"
   ]
  },
  {
   "cell_type": "code",
   "execution_count": 40,
   "metadata": {},
   "outputs": [
    {
     "data": {
      "text/html": [
       "<div>\n",
       "<style scoped>\n",
       "    .dataframe tbody tr th:only-of-type {\n",
       "        vertical-align: middle;\n",
       "    }\n",
       "\n",
       "    .dataframe tbody tr th {\n",
       "        vertical-align: top;\n",
       "    }\n",
       "\n",
       "    .dataframe thead th {\n",
       "        text-align: right;\n",
       "    }\n",
       "</style>\n",
       "<table border=\"1\" class=\"dataframe\">\n",
       "  <thead>\n",
       "    <tr style=\"text-align: right;\">\n",
       "      <th></th>\n",
       "      <th>date</th>\n",
       "      <th>group</th>\n",
       "      <th>orders</th>\n",
       "      <th>buyers</th>\n",
       "      <th>revenue</th>\n",
       "      <th>visitors</th>\n",
       "      <th>avg_check</th>\n",
       "    </tr>\n",
       "  </thead>\n",
       "  <tbody>\n",
       "    <tr>\n",
       "      <th>0</th>\n",
       "      <td>2019-08-01</td>\n",
       "      <td>A</td>\n",
       "      <td>24</td>\n",
       "      <td>20</td>\n",
       "      <td>148579</td>\n",
       "      <td>719</td>\n",
       "      <td>6190.791667</td>\n",
       "    </tr>\n",
       "    <tr>\n",
       "      <th>1</th>\n",
       "      <td>2019-08-01</td>\n",
       "      <td>B</td>\n",
       "      <td>21</td>\n",
       "      <td>20</td>\n",
       "      <td>101217</td>\n",
       "      <td>713</td>\n",
       "      <td>4819.857143</td>\n",
       "    </tr>\n",
       "    <tr>\n",
       "      <th>2</th>\n",
       "      <td>2019-08-02</td>\n",
       "      <td>A</td>\n",
       "      <td>44</td>\n",
       "      <td>38</td>\n",
       "      <td>242401</td>\n",
       "      <td>1338</td>\n",
       "      <td>5509.113636</td>\n",
       "    </tr>\n",
       "    <tr>\n",
       "      <th>3</th>\n",
       "      <td>2019-08-02</td>\n",
       "      <td>B</td>\n",
       "      <td>45</td>\n",
       "      <td>43</td>\n",
       "      <td>266748</td>\n",
       "      <td>1294</td>\n",
       "      <td>5927.733333</td>\n",
       "    </tr>\n",
       "    <tr>\n",
       "      <th>4</th>\n",
       "      <td>2019-08-03</td>\n",
       "      <td>A</td>\n",
       "      <td>68</td>\n",
       "      <td>62</td>\n",
       "      <td>354874</td>\n",
       "      <td>1845</td>\n",
       "      <td>5218.735294</td>\n",
       "    </tr>\n",
       "  </tbody>\n",
       "</table>\n",
       "</div>"
      ],
      "text/plain": [
       "         date group  orders  buyers  revenue  visitors    avg_check\n",
       "0  2019-08-01     A      24      20   148579       719  6190.791667\n",
       "1  2019-08-01     B      21      20   101217       713  4819.857143\n",
       "2  2019-08-02     A      44      38   242401      1338  5509.113636\n",
       "3  2019-08-02     B      45      43   266748      1294  5927.733333\n",
       "4  2019-08-03     A      68      62   354874      1845  5218.735294"
      ]
     },
     "execution_count": 40,
     "metadata": {},
     "output_type": "execute_result"
    }
   ],
   "source": [
    "cummulative_data['avg_check'] = cummulative_data['revenue'] / cummulative_data['orders']\n",
    "cummulative_data.head()"
   ]
  },
  {
   "cell_type": "markdown",
   "metadata": {},
   "source": [
    "Построим графики среднего чека по группам:"
   ]
  },
  {
   "cell_type": "code",
   "execution_count": 41,
   "metadata": {},
   "outputs": [
    {
     "data": {
      "image/png": "[encoded data removed]",
      "text/plain": [
       "<Figure size 1224x504 with 1 Axes>"
      ]
     },
     "metadata": {
      "needs_background": "light"
     },
     "output_type": "display_data"
    }
   ],
   "source": [
    "plt.figure(figsize=(17,7))\n",
    "plt.title('Кумулятивный средний чек')\n",
    "sns.lineplot(x='date',\n",
    "             y='avg_check',\n",
    "             hue='group', data=cummulative_data).set_xticklabels(\n",
    "    cummulative_data['date'].drop_duplicates(),rotation=45)\n",
    "plt.xlabel('дата')\n",
    "plt.ylabel('средний чек');"
   ]
  },
  {
   "cell_type": "markdown",
   "metadata": {},
   "source": [
    "В первой половине наблюдаются сильные колебания по среднему чеку между группами, однако после 18 августа и по среднему чеку виден сильный всплеск по группе B. Очевидно в группе B стали больше покупать либо делать дорогие покупки."
   ]
  },
  {
   "cell_type": "markdown",
   "metadata": {},
   "source": [
    "[⬆︎ К содержанию ⬆︎](#up)"
   ]
  },
  {
   "cell_type": "markdown",
   "metadata": {},
   "source": [
    "### 2.3 График относительного изменения кумулятивного среднего чека группы B к группе A <a class='anchor' id='23'></a>"
   ]
  },
  {
   "cell_type": "code",
   "execution_count": 42,
   "metadata": {},
   "outputs": [
    {
     "data": {
      "text/html": [
       "<div>\n",
       "<style scoped>\n",
       "    .dataframe tbody tr th:only-of-type {\n",
       "        vertical-align: middle;\n",
       "    }\n",
       "\n",
       "    .dataframe tbody tr th {\n",
       "        vertical-align: top;\n",
       "    }\n",
       "\n",
       "    .dataframe thead th {\n",
       "        text-align: right;\n",
       "    }\n",
       "</style>\n",
       "<table border=\"1\" class=\"dataframe\">\n",
       "  <thead>\n",
       "    <tr style=\"text-align: right;\">\n",
       "      <th></th>\n",
       "      <th>date</th>\n",
       "      <th>groupA</th>\n",
       "      <th>ordersA</th>\n",
       "      <th>buyersA</th>\n",
       "      <th>revenueA</th>\n",
       "      <th>visitorsA</th>\n",
       "      <th>avg_checkA</th>\n",
       "      <th>groupB</th>\n",
       "      <th>ordersB</th>\n",
       "      <th>buyersB</th>\n",
       "      <th>revenueB</th>\n",
       "      <th>visitorsB</th>\n",
       "      <th>avg_checkB</th>\n",
       "    </tr>\n",
       "  </thead>\n",
       "  <tbody>\n",
       "    <tr>\n",
       "      <th>0</th>\n",
       "      <td>2019-08-01</td>\n",
       "      <td>A</td>\n",
       "      <td>24</td>\n",
       "      <td>20</td>\n",
       "      <td>148579</td>\n",
       "      <td>719</td>\n",
       "      <td>6190.791667</td>\n",
       "      <td>B</td>\n",
       "      <td>21</td>\n",
       "      <td>20</td>\n",
       "      <td>101217</td>\n",
       "      <td>713</td>\n",
       "      <td>4819.857143</td>\n",
       "    </tr>\n",
       "    <tr>\n",
       "      <th>1</th>\n",
       "      <td>2019-08-02</td>\n",
       "      <td>A</td>\n",
       "      <td>44</td>\n",
       "      <td>38</td>\n",
       "      <td>242401</td>\n",
       "      <td>1338</td>\n",
       "      <td>5509.113636</td>\n",
       "      <td>B</td>\n",
       "      <td>45</td>\n",
       "      <td>43</td>\n",
       "      <td>266748</td>\n",
       "      <td>1294</td>\n",
       "      <td>5927.733333</td>\n",
       "    </tr>\n",
       "    <tr>\n",
       "      <th>2</th>\n",
       "      <td>2019-08-03</td>\n",
       "      <td>A</td>\n",
       "      <td>68</td>\n",
       "      <td>62</td>\n",
       "      <td>354874</td>\n",
       "      <td>1845</td>\n",
       "      <td>5218.735294</td>\n",
       "      <td>B</td>\n",
       "      <td>61</td>\n",
       "      <td>59</td>\n",
       "      <td>380996</td>\n",
       "      <td>1803</td>\n",
       "      <td>6245.836066</td>\n",
       "    </tr>\n",
       "    <tr>\n",
       "      <th>3</th>\n",
       "      <td>2019-08-04</td>\n",
       "      <td>A</td>\n",
       "      <td>84</td>\n",
       "      <td>77</td>\n",
       "      <td>425699</td>\n",
       "      <td>2562</td>\n",
       "      <td>5067.845238</td>\n",
       "      <td>B</td>\n",
       "      <td>78</td>\n",
       "      <td>75</td>\n",
       "      <td>489567</td>\n",
       "      <td>2573</td>\n",
       "      <td>6276.500000</td>\n",
       "    </tr>\n",
       "    <tr>\n",
       "      <th>4</th>\n",
       "      <td>2019-08-05</td>\n",
       "      <td>A</td>\n",
       "      <td>109</td>\n",
       "      <td>100</td>\n",
       "      <td>549917</td>\n",
       "      <td>3318</td>\n",
       "      <td>5045.110092</td>\n",
       "      <td>B</td>\n",
       "      <td>101</td>\n",
       "      <td>98</td>\n",
       "      <td>581995</td>\n",
       "      <td>3280</td>\n",
       "      <td>5762.326733</td>\n",
       "    </tr>\n",
       "  </tbody>\n",
       "</table>\n",
       "</div>"
      ],
      "text/plain": [
       "         date groupA  ordersA  buyersA  revenueA  visitorsA   avg_checkA  \\\n",
       "0  2019-08-01      A       24       20    148579        719  6190.791667   \n",
       "1  2019-08-02      A       44       38    242401       1338  5509.113636   \n",
       "2  2019-08-03      A       68       62    354874       1845  5218.735294   \n",
       "3  2019-08-04      A       84       77    425699       2562  5067.845238   \n",
       "4  2019-08-05      A      109      100    549917       3318  5045.110092   \n",
       "\n",
       "  groupB  ordersB  buyersB  revenueB  visitorsB   avg_checkB  \n",
       "0      B       21       20    101217        713  4819.857143  \n",
       "1      B       45       43    266748       1294  5927.733333  \n",
       "2      B       61       59    380996       1803  6245.836066  \n",
       "3      B       78       75    489567       2573  6276.500000  \n",
       "4      B      101       98    581995       3280  5762.326733  "
      ]
     },
     "execution_count": 42,
     "metadata": {},
     "output_type": "execute_result"
    }
   ],
   "source": [
    "merged_cummulative_revenue = cummulative_data.query('group==\"A\"').merge(\n",
    "    cummulative_data.query('group==\"B\"'), on='date', how='left', suffixes=['A','B'])\n",
    "merged_cummulative_revenue.head()"
   ]
  },
  {
   "cell_type": "markdown",
   "metadata": {},
   "source": [
    "Построим график относительного различия для среднего чека:"
   ]
  },
  {
   "cell_type": "code",
   "execution_count": 43,
   "metadata": {},
   "outputs": [
    {
     "data": {
      "image/png": "[encoded data removed]",
      "text/plain": [
       "<Figure size 1224x504 with 1 Axes>"
      ]
     },
     "metadata": {
      "needs_background": "light"
     },
     "output_type": "display_data"
    }
   ],
   "source": [
    "plt.figure(figsize=(17,7))\n",
    "plt.title('Относительное различие по среднему чеку')\n",
    "sns.lineplot(x='date',\n",
    "             y=merged_cummulative_revenue['avg_checkB'] / merged_cummulative_revenue['avg_checkA']-1, \n",
    "             ci=None, data=merged_cummulative_revenue).set_xticklabels(merged_cummulative_revenue['date'],rotation=45)\n",
    "plt.xlabel('дата')\n",
    "plt.ylabel('разница между группами')\n",
    "plt.axhline(y=0, color='black', linestyle='--');"
   ]
  },
  {
   "cell_type": "markdown",
   "metadata": {},
   "source": [
    "В начале месяца наблюдается преимущество у группы B, однако к середине месяца с пиком 13 агуста преимущество ненадолго перехватила группа А, но затем 18 сентября произошел резкий отрыв в пользу группы B. Похоже что в этой группе были совершены дорогие покупки или чаще стали покупать."
   ]
  },
  {
   "cell_type": "markdown",
   "metadata": {},
   "source": [
    "[⬆︎ К содержанию ⬆︎](#up)"
   ]
  },
  {
   "cell_type": "markdown",
   "metadata": {},
   "source": [
    "### 2.4 График кумулятивной конверсии по группам <a class='anchor' id='24'></a>"
   ]
  },
  {
   "cell_type": "markdown",
   "metadata": {},
   "source": [
    "Рассчитаем кумулятивную конверсию:"
   ]
  },
  {
   "cell_type": "code",
   "execution_count": 44,
   "metadata": {},
   "outputs": [],
   "source": [
    "cummulative_data['conversion'] = cummulative_data['orders'] / cummulative_data['visitors']"
   ]
  },
  {
   "cell_type": "markdown",
   "metadata": {},
   "source": [
    "Построим графики кумулятивных конверсий для обеих групп:"
   ]
  },
  {
   "cell_type": "code",
   "execution_count": 45,
   "metadata": {},
   "outputs": [
    {
     "data": {
      "image/png": "[encoded data removed]",
      "text/plain": [
       "<Figure size 1224x504 with 1 Axes>"
      ]
     },
     "metadata": {
      "needs_background": "light"
     },
     "output_type": "display_data"
    }
   ],
   "source": [
    "plt.figure(figsize=(17,7))\n",
    "plt.title('Кумулятивная конверсия')\n",
    "sns.lineplot(x='date', y='conversion', hue='group', data=cummulative_data).set_xticklabels(\n",
    "    cummulative_data['date'].drop_duplicates(),rotation=45)\n",
    "plt.xlabel('дата')\n",
    "plt.ylabel('конверсия');"
   ]
  },
  {
   "cell_type": "markdown",
   "metadata": {},
   "source": [
    "На данном графике видно, что в первых числах месяца конверсия была схожей, и к 4 числу новинка будто бы насторожила покупателей, но затем конверсия в группе B начала расти уверенными шагами. <a class='anchor' id='edit3'></a>"
   ]
  },
  {
   "cell_type": "markdown",
   "metadata": {},
   "source": [
    "[⬆︎ К содержанию ⬆︎](#up)"
   ]
  },
  {
   "cell_type": "markdown",
   "metadata": {},
   "source": [
    "### 2.5 График относительного изменения кумулятивной конверсии группы B к группе A <a class='anchor' id='25'></a>"
   ]
  },
  {
   "cell_type": "code",
   "execution_count": 46,
   "metadata": {},
   "outputs": [
    {
     "data": {
      "text/html": [
       "<div>\n",
       "<style scoped>\n",
       "    .dataframe tbody tr th:only-of-type {\n",
       "        vertical-align: middle;\n",
       "    }\n",
       "\n",
       "    .dataframe tbody tr th {\n",
       "        vertical-align: top;\n",
       "    }\n",
       "\n",
       "    .dataframe thead th {\n",
       "        text-align: right;\n",
       "    }\n",
       "</style>\n",
       "<table border=\"1\" class=\"dataframe\">\n",
       "  <thead>\n",
       "    <tr style=\"text-align: right;\">\n",
       "      <th></th>\n",
       "      <th>date</th>\n",
       "      <th>groupA</th>\n",
       "      <th>ordersA</th>\n",
       "      <th>buyersA</th>\n",
       "      <th>revenueA</th>\n",
       "      <th>visitorsA</th>\n",
       "      <th>avg_checkA</th>\n",
       "      <th>conversionA</th>\n",
       "      <th>groupB</th>\n",
       "      <th>ordersB</th>\n",
       "      <th>buyersB</th>\n",
       "      <th>revenueB</th>\n",
       "      <th>visitorsB</th>\n",
       "      <th>avg_checkB</th>\n",
       "      <th>conversionB</th>\n",
       "    </tr>\n",
       "  </thead>\n",
       "  <tbody>\n",
       "    <tr>\n",
       "      <th>0</th>\n",
       "      <td>2019-08-01</td>\n",
       "      <td>A</td>\n",
       "      <td>24</td>\n",
       "      <td>20</td>\n",
       "      <td>148579</td>\n",
       "      <td>719</td>\n",
       "      <td>6190.791667</td>\n",
       "      <td>0.033380</td>\n",
       "      <td>B</td>\n",
       "      <td>21</td>\n",
       "      <td>20</td>\n",
       "      <td>101217</td>\n",
       "      <td>713</td>\n",
       "      <td>4819.857143</td>\n",
       "      <td>0.029453</td>\n",
       "    </tr>\n",
       "    <tr>\n",
       "      <th>1</th>\n",
       "      <td>2019-08-02</td>\n",
       "      <td>A</td>\n",
       "      <td>44</td>\n",
       "      <td>38</td>\n",
       "      <td>242401</td>\n",
       "      <td>1338</td>\n",
       "      <td>5509.113636</td>\n",
       "      <td>0.032885</td>\n",
       "      <td>B</td>\n",
       "      <td>45</td>\n",
       "      <td>43</td>\n",
       "      <td>266748</td>\n",
       "      <td>1294</td>\n",
       "      <td>5927.733333</td>\n",
       "      <td>0.034776</td>\n",
       "    </tr>\n",
       "    <tr>\n",
       "      <th>2</th>\n",
       "      <td>2019-08-03</td>\n",
       "      <td>A</td>\n",
       "      <td>68</td>\n",
       "      <td>62</td>\n",
       "      <td>354874</td>\n",
       "      <td>1845</td>\n",
       "      <td>5218.735294</td>\n",
       "      <td>0.036856</td>\n",
       "      <td>B</td>\n",
       "      <td>61</td>\n",
       "      <td>59</td>\n",
       "      <td>380996</td>\n",
       "      <td>1803</td>\n",
       "      <td>6245.836066</td>\n",
       "      <td>0.033833</td>\n",
       "    </tr>\n",
       "    <tr>\n",
       "      <th>3</th>\n",
       "      <td>2019-08-04</td>\n",
       "      <td>A</td>\n",
       "      <td>84</td>\n",
       "      <td>77</td>\n",
       "      <td>425699</td>\n",
       "      <td>2562</td>\n",
       "      <td>5067.845238</td>\n",
       "      <td>0.032787</td>\n",
       "      <td>B</td>\n",
       "      <td>78</td>\n",
       "      <td>75</td>\n",
       "      <td>489567</td>\n",
       "      <td>2573</td>\n",
       "      <td>6276.500000</td>\n",
       "      <td>0.030315</td>\n",
       "    </tr>\n",
       "    <tr>\n",
       "      <th>4</th>\n",
       "      <td>2019-08-05</td>\n",
       "      <td>A</td>\n",
       "      <td>109</td>\n",
       "      <td>100</td>\n",
       "      <td>549917</td>\n",
       "      <td>3318</td>\n",
       "      <td>5045.110092</td>\n",
       "      <td>0.032851</td>\n",
       "      <td>B</td>\n",
       "      <td>101</td>\n",
       "      <td>98</td>\n",
       "      <td>581995</td>\n",
       "      <td>3280</td>\n",
       "      <td>5762.326733</td>\n",
       "      <td>0.030793</td>\n",
       "    </tr>\n",
       "  </tbody>\n",
       "</table>\n",
       "</div>"
      ],
      "text/plain": [
       "         date groupA  ordersA  buyersA  revenueA  visitorsA   avg_checkA  \\\n",
       "0  2019-08-01      A       24       20    148579        719  6190.791667   \n",
       "1  2019-08-02      A       44       38    242401       1338  5509.113636   \n",
       "2  2019-08-03      A       68       62    354874       1845  5218.735294   \n",
       "3  2019-08-04      A       84       77    425699       2562  5067.845238   \n",
       "4  2019-08-05      A      109      100    549917       3318  5045.110092   \n",
       "\n",
       "   conversionA groupB  ordersB  buyersB  revenueB  visitorsB   avg_checkB  \\\n",
       "0     0.033380      B       21       20    101217        713  4819.857143   \n",
       "1     0.032885      B       45       43    266748       1294  5927.733333   \n",
       "2     0.036856      B       61       59    380996       1803  6245.836066   \n",
       "3     0.032787      B       78       75    489567       2573  6276.500000   \n",
       "4     0.032851      B      101       98    581995       3280  5762.326733   \n",
       "\n",
       "   conversionB  \n",
       "0     0.029453  \n",
       "1     0.034776  \n",
       "2     0.033833  \n",
       "3     0.030315  \n",
       "4     0.030793  "
      ]
     },
     "execution_count": 46,
     "metadata": {},
     "output_type": "execute_result"
    }
   ],
   "source": [
    "merged_cummulative_conversion = cummulative_data.query('group==\"A\"').merge(\n",
    "    cummulative_data.query('group==\"B\"'), on='date', how='left', suffixes=['A','B'])\n",
    "merged_cummulative_conversion.head()"
   ]
  },
  {
   "cell_type": "code",
   "execution_count": 47,
   "metadata": {},
   "outputs": [
    {
     "data": {
      "image/png": "[encoded data removed]",
      "text/plain": [
       "<Figure size 1224x504 with 1 Axes>"
      ]
     },
     "metadata": {
      "needs_background": "light"
     },
     "output_type": "display_data"
    }
   ],
   "source": [
    "plt.figure(figsize=(17,7))\n",
    "plt.title('Относительный прирост конверсии')\n",
    "sns.lineplot(x='date',\n",
    "             y=merged_cummulative_conversion['conversionB'] / merged_cummulative_conversion['conversionA']-1, \n",
    "             ci=None, data=merged_cummulative_conversion).set_xticklabels(\n",
    "             merged_cummulative_conversion['date'],rotation=45)\n",
    "plt.xlabel('дата')\n",
    "plt.ylabel('разница между группами')\n",
    "plt.axhline(y=0, color='black', linestyle='--');"
   ]
  },
  {
   "cell_type": "markdown",
   "metadata": {},
   "source": [
    "В начале теста группа A имела преимущество, немного потеряв позиции на второй день и затем снова вырвалась вперед. Однако начиная с 6 августа группа начала проигрывать группе B и затем обрела абсолютное лидерство по конверсии. Что говорит о том, что в группе B стали чаще покупать."
   ]
  },
  {
   "cell_type": "markdown",
   "metadata": {},
   "source": [
    "[⬆︎ К содержанию ⬆︎](#up)"
   ]
  },
  {
   "cell_type": "markdown",
   "metadata": {},
   "source": [
    "### 2.6 Точечный график количества заказов по пользователям <a class='anchor' id='26'></a>"
   ]
  },
  {
   "cell_type": "code",
   "execution_count": 48,
   "metadata": {},
   "outputs": [
    {
     "data": {
      "text/html": [
       "<div>\n",
       "<style scoped>\n",
       "    .dataframe tbody tr th:only-of-type {\n",
       "        vertical-align: middle;\n",
       "    }\n",
       "\n",
       "    .dataframe tbody tr th {\n",
       "        vertical-align: top;\n",
       "    }\n",
       "\n",
       "    .dataframe thead th {\n",
       "        text-align: right;\n",
       "    }\n",
       "</style>\n",
       "<table border=\"1\" class=\"dataframe\">\n",
       "  <thead>\n",
       "    <tr style=\"text-align: right;\">\n",
       "      <th></th>\n",
       "      <th>transaction_id</th>\n",
       "      <th>visitor_id</th>\n",
       "      <th>date</th>\n",
       "      <th>revenue</th>\n",
       "      <th>group</th>\n",
       "    </tr>\n",
       "  </thead>\n",
       "  <tbody>\n",
       "    <tr>\n",
       "      <th>0</th>\n",
       "      <td>3667963787</td>\n",
       "      <td>3312258926</td>\n",
       "      <td>2019-08-15</td>\n",
       "      <td>1650</td>\n",
       "      <td>B</td>\n",
       "    </tr>\n",
       "    <tr>\n",
       "      <th>1</th>\n",
       "      <td>2804400009</td>\n",
       "      <td>3642806036</td>\n",
       "      <td>2019-08-15</td>\n",
       "      <td>730</td>\n",
       "      <td>B</td>\n",
       "    </tr>\n",
       "    <tr>\n",
       "      <th>2</th>\n",
       "      <td>2961555356</td>\n",
       "      <td>4069496402</td>\n",
       "      <td>2019-08-15</td>\n",
       "      <td>400</td>\n",
       "      <td>A</td>\n",
       "    </tr>\n",
       "    <tr>\n",
       "      <th>3</th>\n",
       "      <td>3797467345</td>\n",
       "      <td>1196621759</td>\n",
       "      <td>2019-08-15</td>\n",
       "      <td>9759</td>\n",
       "      <td>B</td>\n",
       "    </tr>\n",
       "    <tr>\n",
       "      <th>4</th>\n",
       "      <td>2282983706</td>\n",
       "      <td>2322279887</td>\n",
       "      <td>2019-08-15</td>\n",
       "      <td>2308</td>\n",
       "      <td>B</td>\n",
       "    </tr>\n",
       "  </tbody>\n",
       "</table>\n",
       "</div>"
      ],
      "text/plain": [
       "   transaction_id  visitor_id        date  revenue group\n",
       "0      3667963787  3312258926  2019-08-15     1650     B\n",
       "1      2804400009  3642806036  2019-08-15      730     B\n",
       "2      2961555356  4069496402  2019-08-15      400     A\n",
       "3      3797467345  1196621759  2019-08-15     9759     B\n",
       "4      2282983706  2322279887  2019-08-15     2308     B"
      ]
     },
     "execution_count": 48,
     "metadata": {},
     "output_type": "execute_result"
    }
   ],
   "source": [
    "orders.head()"
   ]
  },
  {
   "cell_type": "markdown",
   "metadata": {},
   "source": [
    "Подсчитаем количество заказов по пользователям:"
   ]
  },
  {
   "cell_type": "code",
   "execution_count": 49,
   "metadata": {
    "scrolled": true
   },
   "outputs": [
    {
     "data": {
      "text/html": [
       "<div>\n",
       "<style scoped>\n",
       "    .dataframe tbody tr th:only-of-type {\n",
       "        vertical-align: middle;\n",
       "    }\n",
       "\n",
       "    .dataframe tbody tr th {\n",
       "        vertical-align: top;\n",
       "    }\n",
       "\n",
       "    .dataframe thead th {\n",
       "        text-align: right;\n",
       "    }\n",
       "</style>\n",
       "<table border=\"1\" class=\"dataframe\">\n",
       "  <thead>\n",
       "    <tr style=\"text-align: right;\">\n",
       "      <th></th>\n",
       "      <th>user_id</th>\n",
       "      <th>orders</th>\n",
       "    </tr>\n",
       "  </thead>\n",
       "  <tbody>\n",
       "    <tr>\n",
       "      <th>0</th>\n",
       "      <td>5114589</td>\n",
       "      <td>1</td>\n",
       "    </tr>\n",
       "    <tr>\n",
       "      <th>1</th>\n",
       "      <td>6958315</td>\n",
       "      <td>1</td>\n",
       "    </tr>\n",
       "    <tr>\n",
       "      <th>2</th>\n",
       "      <td>8300375</td>\n",
       "      <td>2</td>\n",
       "    </tr>\n",
       "    <tr>\n",
       "      <th>3</th>\n",
       "      <td>11685486</td>\n",
       "      <td>1</td>\n",
       "    </tr>\n",
       "    <tr>\n",
       "      <th>4</th>\n",
       "      <td>39475350</td>\n",
       "      <td>1</td>\n",
       "    </tr>\n",
       "  </tbody>\n",
       "</table>\n",
       "</div>"
      ],
      "text/plain": [
       "    user_id  orders\n",
       "0   5114589       1\n",
       "1   6958315       1\n",
       "2   8300375       2\n",
       "3  11685486       1\n",
       "4  39475350       1"
      ]
     },
     "execution_count": 49,
     "metadata": {},
     "output_type": "execute_result"
    }
   ],
   "source": [
    "orders_by_users = orders.drop(['group', 'revenue', 'date'], axis=1).groupby('visitor_id', as_index=False).agg({\n",
    "    'transaction_id':'nunique'})\n",
    "orders_by_users.columns = ['user_id', 'orders']\n",
    "orders_by_users.head()"
   ]
  },
  {
   "cell_type": "markdown",
   "metadata": {},
   "source": [
    "Построим точечный график:"
   ]
  },
  {
   "cell_type": "code",
   "execution_count": 50,
   "metadata": {},
   "outputs": [
    {
     "data": {
      "image/png": "[encoded data removed]",
      "text/plain": [
       "<Figure size 1224x432 with 1 Axes>"
      ]
     },
     "metadata": {
      "needs_background": "light"
     },
     "output_type": "display_data"
    }
   ],
   "source": [
    "plt.figure(figsize=(17,6))\n",
    "plt.title('Количество заказов по пользователям')\n",
    "sns.scatterplot(data=orders_by_users, x=orders_by_users.index, y='orders')\n",
    "plt.ylabel('заказы');"
   ]
  },
  {
   "cell_type": "markdown",
   "metadata": {},
   "source": [
    "Много пользователей с 2-3 заказами. Полагаю, что аномалиями стоит считать от 4 заказов и больше."
   ]
  },
  {
   "cell_type": "markdown",
   "metadata": {},
   "source": [
    "[⬆︎ К содержанию ⬆︎](#up)"
   ]
  },
  {
   "cell_type": "markdown",
   "metadata": {},
   "source": [
    "### 2.7 95-й и 99-й перцентили количества заказов на пользователя <a class='anchor' id='27'></a>"
   ]
  },
  {
   "cell_type": "markdown",
   "metadata": {},
   "source": [
    "Определим перцентили:"
   ]
  },
  {
   "cell_type": "code",
   "execution_count": 51,
   "metadata": {},
   "outputs": [
    {
     "data": {
      "text/plain": [
       "0.95    2.0\n",
       "0.99    4.0\n",
       "Name: orders, dtype: float64"
      ]
     },
     "execution_count": 51,
     "metadata": {},
     "output_type": "execute_result"
    }
   ],
   "source": [
    "orders_by_users['orders'].quantile([0.95,0.99])"
   ]
  },
  {
   "cell_type": "markdown",
   "metadata": {},
   "source": [
    "5% пользователей оформляли больше чем 2 заказа и 1% пользователей оформлял более 4х заказов. Выберем 4 заказа на одного пользователя как нижнюю границу аномалий."
   ]
  },
  {
   "cell_type": "markdown",
   "metadata": {},
   "source": [
    "[⬆︎ К содержанию ⬆︎](#up)"
   ]
  },
  {
   "cell_type": "markdown",
   "metadata": {},
   "source": [
    "### 2.8 Точечный график стоимостей заказов <a class='anchor' id='28'></a>"
   ]
  },
  {
   "cell_type": "markdown",
   "metadata": {},
   "source": [
    "Изучим точечный график распределения стоимости заказов:"
   ]
  },
  {
   "cell_type": "code",
   "execution_count": 52,
   "metadata": {},
   "outputs": [
    {
     "data": {
      "image/png": "[encoded data removed]",
      "text/plain": [
       "<Figure size 1224x432 with 1 Axes>"
      ]
     },
     "metadata": {
      "needs_background": "light"
     },
     "output_type": "display_data"
    }
   ],
   "source": [
    "plt.figure(figsize=(17,6))\n",
    "plt.title('График распределения стоимости заказов')\n",
    "sns.scatterplot(data=orders, x=orders.index, y='revenue')\n",
    "plt.ylabel('стоимость заказа');"
   ]
  },
  {
   "cell_type": "markdown",
   "metadata": {},
   "source": [
    "Отмечается всего два очень дорогих заказа, один более 1200000, другой более 200000."
   ]
  },
  {
   "cell_type": "markdown",
   "metadata": {},
   "source": [
    "[⬆︎ К содержанию ⬆︎](#up)"
   ]
  },
  {
   "cell_type": "markdown",
   "metadata": {},
   "source": [
    "### 2.9 95-й и 99-й перцентили стоимости заказов <a class='anchor' id='29'></a>"
   ]
  },
  {
   "cell_type": "markdown",
   "metadata": {},
   "source": [
    "Определим перцентили по стоимости заказов:"
   ]
  },
  {
   "cell_type": "code",
   "execution_count": 53,
   "metadata": {},
   "outputs": [
    {
     "data": {
      "text/plain": [
       "0.95    28000.0\n",
       "0.99    58233.2\n",
       "Name: revenue, dtype: float64"
      ]
     },
     "execution_count": 53,
     "metadata": {},
     "output_type": "execute_result"
    }
   ],
   "source": [
    "orders['revenue'].quantile([0.95,0.99])"
   ]
  },
  {
   "cell_type": "markdown",
   "metadata": {},
   "source": [
    "5% процентов покупок сделано на сумму от 28000 и 1% прокупок сделан на сумму более чем 58000."
   ]
  },
  {
   "cell_type": "markdown",
   "metadata": {},
   "source": [
    "[⬆︎ К содержанию ⬆︎](#up)"
   ]
  },
  {
   "cell_type": "markdown",
   "metadata": {},
   "source": [
    "Аномальными пользователями будем считать тех, кто совершил покупки на сумму больше 28000. <a class='anchor' id='edit4'></a>"
   ]
  },
  {
   "cell_type": "markdown",
   "metadata": {},
   "source": [
    "### 2.10 Статистическая значимость различий в конверсии между группами по «сырым» данным <a class='anchor' id='210'></a>"
   ]
  },
  {
   "cell_type": "markdown",
   "metadata": {},
   "source": [
    "Подготовим данные..."
   ]
  },
  {
   "cell_type": "markdown",
   "metadata": {},
   "source": [
    "...по посетителям:"
   ]
  },
  {
   "cell_type": "code",
   "execution_count": 54,
   "metadata": {},
   "outputs": [
    {
     "data": {
      "text/html": [
       "<div>\n",
       "<style scoped>\n",
       "    .dataframe tbody tr th:only-of-type {\n",
       "        vertical-align: middle;\n",
       "    }\n",
       "\n",
       "    .dataframe tbody tr th {\n",
       "        vertical-align: top;\n",
       "    }\n",
       "\n",
       "    .dataframe thead th {\n",
       "        text-align: right;\n",
       "    }\n",
       "</style>\n",
       "<table border=\"1\" class=\"dataframe\">\n",
       "  <thead>\n",
       "    <tr style=\"text-align: right;\">\n",
       "      <th></th>\n",
       "      <th>date</th>\n",
       "      <th>group</th>\n",
       "      <th>visitors</th>\n",
       "    </tr>\n",
       "  </thead>\n",
       "  <tbody>\n",
       "    <tr>\n",
       "      <th>0</th>\n",
       "      <td>2019-08-01</td>\n",
       "      <td>A</td>\n",
       "      <td>719</td>\n",
       "    </tr>\n",
       "    <tr>\n",
       "      <th>1</th>\n",
       "      <td>2019-08-02</td>\n",
       "      <td>A</td>\n",
       "      <td>619</td>\n",
       "    </tr>\n",
       "    <tr>\n",
       "      <th>2</th>\n",
       "      <td>2019-08-03</td>\n",
       "      <td>A</td>\n",
       "      <td>507</td>\n",
       "    </tr>\n",
       "    <tr>\n",
       "      <th>3</th>\n",
       "      <td>2019-08-04</td>\n",
       "      <td>A</td>\n",
       "      <td>717</td>\n",
       "    </tr>\n",
       "    <tr>\n",
       "      <th>4</th>\n",
       "      <td>2019-08-05</td>\n",
       "      <td>A</td>\n",
       "      <td>756</td>\n",
       "    </tr>\n",
       "  </tbody>\n",
       "</table>\n",
       "</div>"
      ],
      "text/plain": [
       "         date group  visitors\n",
       "0  2019-08-01     A       719\n",
       "1  2019-08-02     A       619\n",
       "2  2019-08-03     A       507\n",
       "3  2019-08-04     A       717\n",
       "4  2019-08-05     A       756"
      ]
     },
     "execution_count": 54,
     "metadata": {},
     "output_type": "execute_result"
    }
   ],
   "source": [
    "visitors.head()"
   ]
  },
  {
   "cell_type": "code",
   "execution_count": 55,
   "metadata": {},
   "outputs": [
    {
     "data": {
      "text/html": [
       "<div>\n",
       "<style scoped>\n",
       "    .dataframe tbody tr th:only-of-type {\n",
       "        vertical-align: middle;\n",
       "    }\n",
       "\n",
       "    .dataframe tbody tr th {\n",
       "        vertical-align: top;\n",
       "    }\n",
       "\n",
       "    .dataframe thead th {\n",
       "        text-align: right;\n",
       "    }\n",
       "</style>\n",
       "<table border=\"1\" class=\"dataframe\">\n",
       "  <thead>\n",
       "    <tr style=\"text-align: right;\">\n",
       "      <th></th>\n",
       "      <th>date</th>\n",
       "      <th>visitors_per_date_a</th>\n",
       "    </tr>\n",
       "  </thead>\n",
       "  <tbody>\n",
       "    <tr>\n",
       "      <th>17</th>\n",
       "      <td>2019-08-18</td>\n",
       "      <td>668</td>\n",
       "    </tr>\n",
       "  </tbody>\n",
       "</table>\n",
       "</div>"
      ],
      "text/plain": [
       "          date  visitors_per_date_a\n",
       "17  2019-08-18                  668"
      ]
     },
     "execution_count": 55,
     "metadata": {},
     "output_type": "execute_result"
    }
   ],
   "source": [
    "visitors_a_daily = visitors[visitors['group'] == 'A'][['date','visitors']]\n",
    "visitors_a_daily.columns = ['date', 'visitors_per_date_a']\n",
    "visitors_a_daily.sample(1)"
   ]
  },
  {
   "cell_type": "code",
   "execution_count": 56,
   "metadata": {},
   "outputs": [
    {
     "data": {
      "text/html": [
       "<div>\n",
       "<style scoped>\n",
       "    .dataframe tbody tr th:only-of-type {\n",
       "        vertical-align: middle;\n",
       "    }\n",
       "\n",
       "    .dataframe tbody tr th {\n",
       "        vertical-align: top;\n",
       "    }\n",
       "\n",
       "    .dataframe thead th {\n",
       "        text-align: right;\n",
       "    }\n",
       "</style>\n",
       "<table border=\"1\" class=\"dataframe\">\n",
       "  <thead>\n",
       "    <tr style=\"text-align: right;\">\n",
       "      <th></th>\n",
       "      <th>date</th>\n",
       "      <th>visitors_cummulative_a</th>\n",
       "    </tr>\n",
       "  </thead>\n",
       "  <tbody>\n",
       "    <tr>\n",
       "      <th>19</th>\n",
       "      <td>2019-08-20</td>\n",
       "      <td>12204</td>\n",
       "    </tr>\n",
       "  </tbody>\n",
       "</table>\n",
       "</div>"
      ],
      "text/plain": [
       "          date  visitors_cummulative_a\n",
       "19  2019-08-20                   12204"
      ]
     },
     "execution_count": 56,
     "metadata": {},
     "output_type": "execute_result"
    }
   ],
   "source": [
    "visitors_a_cummulative = visitors_a_daily.apply(lambda x: visitors_a_daily[visitors_a_daily['date'] <= x['date']].agg(\n",
    "    {'date':'max','visitors_per_date_a':'sum'}), axis=1)\n",
    "visitors_a_cummulative.columns = ['date', 'visitors_cummulative_a']\n",
    "visitors_a_cummulative.sample(1)"
   ]
  },
  {
   "cell_type": "code",
   "execution_count": 57,
   "metadata": {},
   "outputs": [
    {
     "data": {
      "text/html": [
       "<div>\n",
       "<style scoped>\n",
       "    .dataframe tbody tr th:only-of-type {\n",
       "        vertical-align: middle;\n",
       "    }\n",
       "\n",
       "    .dataframe tbody tr th {\n",
       "        vertical-align: top;\n",
       "    }\n",
       "\n",
       "    .dataframe thead th {\n",
       "        text-align: right;\n",
       "    }\n",
       "</style>\n",
       "<table border=\"1\" class=\"dataframe\">\n",
       "  <thead>\n",
       "    <tr style=\"text-align: right;\">\n",
       "      <th></th>\n",
       "      <th>date</th>\n",
       "      <th>visitors_per_date_b</th>\n",
       "    </tr>\n",
       "  </thead>\n",
       "  <tbody>\n",
       "    <tr>\n",
       "      <th>40</th>\n",
       "      <td>2019-08-10</td>\n",
       "      <td>369</td>\n",
       "    </tr>\n",
       "  </tbody>\n",
       "</table>\n",
       "</div>"
      ],
      "text/plain": [
       "          date  visitors_per_date_b\n",
       "40  2019-08-10                  369"
      ]
     },
     "execution_count": 57,
     "metadata": {},
     "output_type": "execute_result"
    }
   ],
   "source": [
    "visitors_b_daily = visitors[visitors['group'] == 'B'][['date','visitors']]\n",
    "visitors_b_daily.columns = ['date', 'visitors_per_date_b']\n",
    "visitors_b_daily.sample(1)"
   ]
  },
  {
   "cell_type": "code",
   "execution_count": 58,
   "metadata": {},
   "outputs": [
    {
     "data": {
      "text/html": [
       "<div>\n",
       "<style scoped>\n",
       "    .dataframe tbody tr th:only-of-type {\n",
       "        vertical-align: middle;\n",
       "    }\n",
       "\n",
       "    .dataframe tbody tr th {\n",
       "        vertical-align: top;\n",
       "    }\n",
       "\n",
       "    .dataframe thead th {\n",
       "        text-align: right;\n",
       "    }\n",
       "</style>\n",
       "<table border=\"1\" class=\"dataframe\">\n",
       "  <thead>\n",
       "    <tr style=\"text-align: right;\">\n",
       "      <th></th>\n",
       "      <th>date</th>\n",
       "      <th>visitors_cummulative_b</th>\n",
       "    </tr>\n",
       "  </thead>\n",
       "  <tbody>\n",
       "    <tr>\n",
       "      <th>32</th>\n",
       "      <td>2019-08-02</td>\n",
       "      <td>1294</td>\n",
       "    </tr>\n",
       "  </tbody>\n",
       "</table>\n",
       "</div>"
      ],
      "text/plain": [
       "          date  visitors_cummulative_b\n",
       "32  2019-08-02                    1294"
      ]
     },
     "execution_count": 58,
     "metadata": {},
     "output_type": "execute_result"
    }
   ],
   "source": [
    "visitors_b_cummulative = visitors_b_daily.apply(lambda x: visitors_b_daily[visitors_b_daily['date'] <= x['date']].agg(\n",
    "    {'date':'max','visitors_per_date_b':'sum'}), axis=1)\n",
    "visitors_b_cummulative.columns = ['date', 'visitors_cummulative_b']\n",
    "visitors_b_cummulative.sample(1)"
   ]
  },
  {
   "cell_type": "markdown",
   "metadata": {},
   "source": [
    "...по заказам:"
   ]
  },
  {
   "cell_type": "code",
   "execution_count": 59,
   "metadata": {
    "scrolled": true
   },
   "outputs": [
    {
     "data": {
      "text/html": [
       "<div>\n",
       "<style scoped>\n",
       "    .dataframe tbody tr th:only-of-type {\n",
       "        vertical-align: middle;\n",
       "    }\n",
       "\n",
       "    .dataframe tbody tr th {\n",
       "        vertical-align: top;\n",
       "    }\n",
       "\n",
       "    .dataframe thead th {\n",
       "        text-align: right;\n",
       "    }\n",
       "</style>\n",
       "<table border=\"1\" class=\"dataframe\">\n",
       "  <thead>\n",
       "    <tr style=\"text-align: right;\">\n",
       "      <th></th>\n",
       "      <th>transaction_id</th>\n",
       "      <th>visitor_id</th>\n",
       "      <th>date</th>\n",
       "      <th>revenue</th>\n",
       "      <th>group</th>\n",
       "    </tr>\n",
       "  </thead>\n",
       "  <tbody>\n",
       "    <tr>\n",
       "      <th>0</th>\n",
       "      <td>3667963787</td>\n",
       "      <td>3312258926</td>\n",
       "      <td>2019-08-15</td>\n",
       "      <td>1650</td>\n",
       "      <td>B</td>\n",
       "    </tr>\n",
       "    <tr>\n",
       "      <th>1</th>\n",
       "      <td>2804400009</td>\n",
       "      <td>3642806036</td>\n",
       "      <td>2019-08-15</td>\n",
       "      <td>730</td>\n",
       "      <td>B</td>\n",
       "    </tr>\n",
       "    <tr>\n",
       "      <th>2</th>\n",
       "      <td>2961555356</td>\n",
       "      <td>4069496402</td>\n",
       "      <td>2019-08-15</td>\n",
       "      <td>400</td>\n",
       "      <td>A</td>\n",
       "    </tr>\n",
       "    <tr>\n",
       "      <th>3</th>\n",
       "      <td>3797467345</td>\n",
       "      <td>1196621759</td>\n",
       "      <td>2019-08-15</td>\n",
       "      <td>9759</td>\n",
       "      <td>B</td>\n",
       "    </tr>\n",
       "    <tr>\n",
       "      <th>4</th>\n",
       "      <td>2282983706</td>\n",
       "      <td>2322279887</td>\n",
       "      <td>2019-08-15</td>\n",
       "      <td>2308</td>\n",
       "      <td>B</td>\n",
       "    </tr>\n",
       "  </tbody>\n",
       "</table>\n",
       "</div>"
      ],
      "text/plain": [
       "   transaction_id  visitor_id        date  revenue group\n",
       "0      3667963787  3312258926  2019-08-15     1650     B\n",
       "1      2804400009  3642806036  2019-08-15      730     B\n",
       "2      2961555356  4069496402  2019-08-15      400     A\n",
       "3      3797467345  1196621759  2019-08-15     9759     B\n",
       "4      2282983706  2322279887  2019-08-15     2308     B"
      ]
     },
     "execution_count": 59,
     "metadata": {},
     "output_type": "execute_result"
    }
   ],
   "source": [
    "orders.head()"
   ]
  },
  {
   "cell_type": "code",
   "execution_count": 60,
   "metadata": {},
   "outputs": [
    {
     "data": {
      "text/html": [
       "<div>\n",
       "<style scoped>\n",
       "    .dataframe tbody tr th:only-of-type {\n",
       "        vertical-align: middle;\n",
       "    }\n",
       "\n",
       "    .dataframe tbody tr th {\n",
       "        vertical-align: top;\n",
       "    }\n",
       "\n",
       "    .dataframe thead th {\n",
       "        text-align: right;\n",
       "    }\n",
       "</style>\n",
       "<table border=\"1\" class=\"dataframe\">\n",
       "  <thead>\n",
       "    <tr style=\"text-align: right;\">\n",
       "      <th></th>\n",
       "      <th>date</th>\n",
       "      <th>orders_per_date_a</th>\n",
       "      <th>revenue_per_date_a</th>\n",
       "    </tr>\n",
       "  </thead>\n",
       "  <tbody>\n",
       "    <tr>\n",
       "      <th>9</th>\n",
       "      <td>2019-08-10</td>\n",
       "      <td>16</td>\n",
       "      <td>210495</td>\n",
       "    </tr>\n",
       "  </tbody>\n",
       "</table>\n",
       "</div>"
      ],
      "text/plain": [
       "         date  orders_per_date_a  revenue_per_date_a\n",
       "9  2019-08-10                 16              210495"
      ]
     },
     "execution_count": 60,
     "metadata": {},
     "output_type": "execute_result"
    }
   ],
   "source": [
    "orders_a_daily = orders[orders['group'] == 'A'][['date', 'transaction_id', 'visitor_id', 'revenue']].groupby(\n",
    "    'date',as_index=False).agg({'transaction_id':'nunique', 'revenue':'sum'})\n",
    "orders_a_daily.columns = ['date', 'orders_per_date_a', 'revenue_per_date_a']\n",
    "orders_a_daily.sample(1)"
   ]
  },
  {
   "cell_type": "code",
   "execution_count": 61,
   "metadata": {},
   "outputs": [
    {
     "data": {
      "text/html": [
       "<div>\n",
       "<style scoped>\n",
       "    .dataframe tbody tr th:only-of-type {\n",
       "        vertical-align: middle;\n",
       "    }\n",
       "\n",
       "    .dataframe tbody tr th {\n",
       "        vertical-align: top;\n",
       "    }\n",
       "\n",
       "    .dataframe thead th {\n",
       "        text-align: right;\n",
       "    }\n",
       "</style>\n",
       "<table border=\"1\" class=\"dataframe\">\n",
       "  <thead>\n",
       "    <tr style=\"text-align: right;\">\n",
       "      <th></th>\n",
       "      <th>date</th>\n",
       "      <th>orders_cummulative_a</th>\n",
       "      <th>revenue_cummulative_a</th>\n",
       "    </tr>\n",
       "  </thead>\n",
       "  <tbody>\n",
       "    <tr>\n",
       "      <th>8</th>\n",
       "      <td>2019-08-09</td>\n",
       "      <td>177</td>\n",
       "      <td>1025603</td>\n",
       "    </tr>\n",
       "  </tbody>\n",
       "</table>\n",
       "</div>"
      ],
      "text/plain": [
       "         date  orders_cummulative_a  revenue_cummulative_a\n",
       "8  2019-08-09                   177                1025603"
      ]
     },
     "execution_count": 61,
     "metadata": {},
     "output_type": "execute_result"
    }
   ],
   "source": [
    "orders_a_cummulative = orders_a_daily.apply(lambda x: orders_a_daily[orders_a_daily['date'] <= x['date']].agg({\n",
    "    'date':'max', 'orders_per_date_a':'sum', 'revenue_per_date_a':'sum'}), axis=1).sort_values(by='date')\n",
    "orders_a_cummulative.columns = ['date', 'orders_cummulative_a', 'revenue_cummulative_a']\n",
    "orders_a_cummulative.sample(1)"
   ]
  },
  {
   "cell_type": "code",
   "execution_count": 62,
   "metadata": {},
   "outputs": [
    {
     "data": {
      "text/html": [
       "<div>\n",
       "<style scoped>\n",
       "    .dataframe tbody tr th:only-of-type {\n",
       "        vertical-align: middle;\n",
       "    }\n",
       "\n",
       "    .dataframe tbody tr th {\n",
       "        vertical-align: top;\n",
       "    }\n",
       "\n",
       "    .dataframe thead th {\n",
       "        text-align: right;\n",
       "    }\n",
       "</style>\n",
       "<table border=\"1\" class=\"dataframe\">\n",
       "  <thead>\n",
       "    <tr style=\"text-align: right;\">\n",
       "      <th></th>\n",
       "      <th>date</th>\n",
       "      <th>orders_per_date_b</th>\n",
       "      <th>revenue_per_date_b</th>\n",
       "    </tr>\n",
       "  </thead>\n",
       "  <tbody>\n",
       "    <tr>\n",
       "      <th>8</th>\n",
       "      <td>2019-08-09</td>\n",
       "      <td>25</td>\n",
       "      <td>160812</td>\n",
       "    </tr>\n",
       "  </tbody>\n",
       "</table>\n",
       "</div>"
      ],
      "text/plain": [
       "         date  orders_per_date_b  revenue_per_date_b\n",
       "8  2019-08-09                 25              160812"
      ]
     },
     "execution_count": 62,
     "metadata": {},
     "output_type": "execute_result"
    }
   ],
   "source": [
    "orders_b_daily = orders[orders['group'] == 'B'][['date', 'transaction_id', 'visitor_id', 'revenue']].groupby(\n",
    "    'date',as_index=False).agg({'transaction_id':'nunique', 'revenue':'sum'})\n",
    "orders_b_daily.columns = ['date', 'orders_per_date_b', 'revenue_per_date_b']\n",
    "orders_b_daily.sample(1)"
   ]
  },
  {
   "cell_type": "code",
   "execution_count": 63,
   "metadata": {},
   "outputs": [
    {
     "data": {
      "text/html": [
       "<div>\n",
       "<style scoped>\n",
       "    .dataframe tbody tr th:only-of-type {\n",
       "        vertical-align: middle;\n",
       "    }\n",
       "\n",
       "    .dataframe tbody tr th {\n",
       "        vertical-align: top;\n",
       "    }\n",
       "\n",
       "    .dataframe thead th {\n",
       "        text-align: right;\n",
       "    }\n",
       "</style>\n",
       "<table border=\"1\" class=\"dataframe\">\n",
       "  <thead>\n",
       "    <tr style=\"text-align: right;\">\n",
       "      <th></th>\n",
       "      <th>date</th>\n",
       "      <th>orders_cummulative_b</th>\n",
       "      <th>revenue_cummulative_b</th>\n",
       "    </tr>\n",
       "  </thead>\n",
       "  <tbody>\n",
       "    <tr>\n",
       "      <th>17</th>\n",
       "      <td>2019-08-18</td>\n",
       "      <td>382</td>\n",
       "      <td>2686621</td>\n",
       "    </tr>\n",
       "  </tbody>\n",
       "</table>\n",
       "</div>"
      ],
      "text/plain": [
       "          date  orders_cummulative_b  revenue_cummulative_b\n",
       "17  2019-08-18                   382                2686621"
      ]
     },
     "execution_count": 63,
     "metadata": {},
     "output_type": "execute_result"
    }
   ],
   "source": [
    "orders_b_cummulative = orders_b_daily.apply(lambda x: orders_b_daily[orders_b_daily['date'] <= x['date']].agg({\n",
    "    'date':'max', 'orders_per_date_b':'sum', 'revenue_per_date_b':'sum'}), axis=1).sort_values(by='date')\n",
    "orders_b_cummulative.columns = ['date', 'orders_cummulative_b', 'revenue_cummulative_b']\n",
    "orders_b_cummulative.sample(1)"
   ]
  },
  {
   "cell_type": "markdown",
   "metadata": {},
   "source": [
    "Объедим все полученные датафреймы в единый датафрейм:"
   ]
  },
  {
   "cell_type": "code",
   "execution_count": 64,
   "metadata": {
    "scrolled": true
   },
   "outputs": [
    {
     "data": {
      "text/html": [
       "<div>\n",
       "<style scoped>\n",
       "    .dataframe tbody tr th:only-of-type {\n",
       "        vertical-align: middle;\n",
       "    }\n",
       "\n",
       "    .dataframe tbody tr th {\n",
       "        vertical-align: top;\n",
       "    }\n",
       "\n",
       "    .dataframe thead th {\n",
       "        text-align: right;\n",
       "    }\n",
       "</style>\n",
       "<table border=\"1\" class=\"dataframe\">\n",
       "  <thead>\n",
       "    <tr style=\"text-align: right;\">\n",
       "      <th></th>\n",
       "      <th>date</th>\n",
       "      <th>orders_per_date_a</th>\n",
       "      <th>revenue_per_date_a</th>\n",
       "      <th>orders_per_date_b</th>\n",
       "      <th>revenue_per_date_b</th>\n",
       "      <th>orders_cummulative_a</th>\n",
       "      <th>revenue_cummulative_a</th>\n",
       "      <th>orders_cummulative_b</th>\n",
       "      <th>revenue_cummulative_b</th>\n",
       "      <th>visitors_per_date_a</th>\n",
       "      <th>visitors_per_date_b</th>\n",
       "      <th>visitors_cummulative_a</th>\n",
       "      <th>visitors_cummulative_b</th>\n",
       "    </tr>\n",
       "  </thead>\n",
       "  <tbody>\n",
       "    <tr>\n",
       "      <th>0</th>\n",
       "      <td>2019-08-01</td>\n",
       "      <td>24</td>\n",
       "      <td>148579</td>\n",
       "      <td>21</td>\n",
       "      <td>101217</td>\n",
       "      <td>24</td>\n",
       "      <td>148579</td>\n",
       "      <td>21</td>\n",
       "      <td>101217</td>\n",
       "      <td>719</td>\n",
       "      <td>713</td>\n",
       "      <td>719</td>\n",
       "      <td>713</td>\n",
       "    </tr>\n",
       "    <tr>\n",
       "      <th>1</th>\n",
       "      <td>2019-08-02</td>\n",
       "      <td>20</td>\n",
       "      <td>93822</td>\n",
       "      <td>24</td>\n",
       "      <td>165531</td>\n",
       "      <td>44</td>\n",
       "      <td>242401</td>\n",
       "      <td>45</td>\n",
       "      <td>266748</td>\n",
       "      <td>619</td>\n",
       "      <td>581</td>\n",
       "      <td>1338</td>\n",
       "      <td>1294</td>\n",
       "    </tr>\n",
       "    <tr>\n",
       "      <th>2</th>\n",
       "      <td>2019-08-03</td>\n",
       "      <td>24</td>\n",
       "      <td>112473</td>\n",
       "      <td>16</td>\n",
       "      <td>114248</td>\n",
       "      <td>68</td>\n",
       "      <td>354874</td>\n",
       "      <td>61</td>\n",
       "      <td>380996</td>\n",
       "      <td>507</td>\n",
       "      <td>509</td>\n",
       "      <td>1845</td>\n",
       "      <td>1803</td>\n",
       "    </tr>\n",
       "    <tr>\n",
       "      <th>3</th>\n",
       "      <td>2019-08-04</td>\n",
       "      <td>16</td>\n",
       "      <td>70825</td>\n",
       "      <td>17</td>\n",
       "      <td>108571</td>\n",
       "      <td>84</td>\n",
       "      <td>425699</td>\n",
       "      <td>78</td>\n",
       "      <td>489567</td>\n",
       "      <td>717</td>\n",
       "      <td>770</td>\n",
       "      <td>2562</td>\n",
       "      <td>2573</td>\n",
       "    </tr>\n",
       "    <tr>\n",
       "      <th>4</th>\n",
       "      <td>2019-08-05</td>\n",
       "      <td>25</td>\n",
       "      <td>124218</td>\n",
       "      <td>23</td>\n",
       "      <td>92428</td>\n",
       "      <td>109</td>\n",
       "      <td>549917</td>\n",
       "      <td>101</td>\n",
       "      <td>581995</td>\n",
       "      <td>756</td>\n",
       "      <td>707</td>\n",
       "      <td>3318</td>\n",
       "      <td>3280</td>\n",
       "    </tr>\n",
       "  </tbody>\n",
       "</table>\n",
       "</div>"
      ],
      "text/plain": [
       "         date  orders_per_date_a  revenue_per_date_a  orders_per_date_b  \\\n",
       "0  2019-08-01                 24              148579                 21   \n",
       "1  2019-08-02                 20               93822                 24   \n",
       "2  2019-08-03                 24              112473                 16   \n",
       "3  2019-08-04                 16               70825                 17   \n",
       "4  2019-08-05                 25              124218                 23   \n",
       "\n",
       "   revenue_per_date_b  orders_cummulative_a  revenue_cummulative_a  \\\n",
       "0              101217                    24                 148579   \n",
       "1              165531                    44                 242401   \n",
       "2              114248                    68                 354874   \n",
       "3              108571                    84                 425699   \n",
       "4               92428                   109                 549917   \n",
       "\n",
       "   orders_cummulative_b  revenue_cummulative_b  visitors_per_date_a  \\\n",
       "0                    21                 101217                  719   \n",
       "1                    45                 266748                  619   \n",
       "2                    61                 380996                  507   \n",
       "3                    78                 489567                  717   \n",
       "4                   101                 581995                  756   \n",
       "\n",
       "   visitors_per_date_b  visitors_cummulative_a  visitors_cummulative_b  \n",
       "0                  713                     719                     713  \n",
       "1                  581                    1338                    1294  \n",
       "2                  509                    1845                    1803  \n",
       "3                  770                    2562                    2573  \n",
       "4                  707                    3318                    3280  "
      ]
     },
     "execution_count": 64,
     "metadata": {},
     "output_type": "execute_result"
    }
   ],
   "source": [
    "ab = (\n",
    "    orders_a_daily.merge(orders_b_daily, on='date', how='left')\n",
    "    .merge(orders_a_cummulative, on='date', how='left')\n",
    "    .merge(orders_b_cummulative, on='date', how='left')\n",
    "    .merge(visitors_a_daily, on='date', how='left')\n",
    "    .merge(visitors_b_daily, on='date', how='left')\n",
    "    .merge(visitors_a_cummulative, on='date', how='left')\n",
    "    .merge(visitors_b_cummulative, on='date', how='left')\n",
    ")\n",
    "ab.head()"
   ]
  },
  {
   "cell_type": "markdown",
   "metadata": {},
   "source": [
    "Для рассчета статистической значимости создадим списки с пользователями для обеих групп:"
   ]
  },
  {
   "cell_type": "code",
   "execution_count": 65,
   "metadata": {},
   "outputs": [
    {
     "data": {
      "text/html": [
       "<div>\n",
       "<style scoped>\n",
       "    .dataframe tbody tr th:only-of-type {\n",
       "        vertical-align: middle;\n",
       "    }\n",
       "\n",
       "    .dataframe tbody tr th {\n",
       "        vertical-align: top;\n",
       "    }\n",
       "\n",
       "    .dataframe thead th {\n",
       "        text-align: right;\n",
       "    }\n",
       "</style>\n",
       "<table border=\"1\" class=\"dataframe\">\n",
       "  <thead>\n",
       "    <tr style=\"text-align: right;\">\n",
       "      <th></th>\n",
       "      <th>user_id</th>\n",
       "      <th>orders</th>\n",
       "    </tr>\n",
       "  </thead>\n",
       "  <tbody>\n",
       "    <tr>\n",
       "      <th>0</th>\n",
       "      <td>8300375</td>\n",
       "      <td>1</td>\n",
       "    </tr>\n",
       "    <tr>\n",
       "      <th>1</th>\n",
       "      <td>11685486</td>\n",
       "      <td>1</td>\n",
       "    </tr>\n",
       "    <tr>\n",
       "      <th>2</th>\n",
       "      <td>54447517</td>\n",
       "      <td>1</td>\n",
       "    </tr>\n",
       "    <tr>\n",
       "      <th>3</th>\n",
       "      <td>66685450</td>\n",
       "      <td>1</td>\n",
       "    </tr>\n",
       "    <tr>\n",
       "      <th>4</th>\n",
       "      <td>78758296</td>\n",
       "      <td>1</td>\n",
       "    </tr>\n",
       "  </tbody>\n",
       "</table>\n",
       "</div>"
      ],
      "text/plain": [
       "    user_id  orders\n",
       "0   8300375       1\n",
       "1  11685486       1\n",
       "2  54447517       1\n",
       "3  66685450       1\n",
       "4  78758296       1"
      ]
     },
     "execution_count": 65,
     "metadata": {},
     "output_type": "execute_result"
    }
   ],
   "source": [
    "orders_by_users_a = orders[orders['group'] == 'A'].groupby('visitor_id', as_index=False).agg(\n",
    "    {'transaction_id': 'nunique'})\n",
    "orders_by_users_a.columns = ['user_id', 'orders']\n",
    "orders_by_users_a.head(5)"
   ]
  },
  {
   "cell_type": "code",
   "execution_count": 66,
   "metadata": {},
   "outputs": [
    {
     "data": {
      "text/html": [
       "<div>\n",
       "<style scoped>\n",
       "    .dataframe tbody tr th:only-of-type {\n",
       "        vertical-align: middle;\n",
       "    }\n",
       "\n",
       "    .dataframe tbody tr th {\n",
       "        vertical-align: top;\n",
       "    }\n",
       "\n",
       "    .dataframe thead th {\n",
       "        text-align: right;\n",
       "    }\n",
       "</style>\n",
       "<table border=\"1\" class=\"dataframe\">\n",
       "  <thead>\n",
       "    <tr style=\"text-align: right;\">\n",
       "      <th></th>\n",
       "      <th>user_id</th>\n",
       "      <th>orders</th>\n",
       "    </tr>\n",
       "  </thead>\n",
       "  <tbody>\n",
       "    <tr>\n",
       "      <th>0</th>\n",
       "      <td>5114589</td>\n",
       "      <td>1</td>\n",
       "    </tr>\n",
       "    <tr>\n",
       "      <th>1</th>\n",
       "      <td>6958315</td>\n",
       "      <td>1</td>\n",
       "    </tr>\n",
       "    <tr>\n",
       "      <th>2</th>\n",
       "      <td>8300375</td>\n",
       "      <td>1</td>\n",
       "    </tr>\n",
       "    <tr>\n",
       "      <th>3</th>\n",
       "      <td>39475350</td>\n",
       "      <td>1</td>\n",
       "    </tr>\n",
       "    <tr>\n",
       "      <th>4</th>\n",
       "      <td>47206413</td>\n",
       "      <td>1</td>\n",
       "    </tr>\n",
       "  </tbody>\n",
       "</table>\n",
       "</div>"
      ],
      "text/plain": [
       "    user_id  orders\n",
       "0   5114589       1\n",
       "1   6958315       1\n",
       "2   8300375       1\n",
       "3  39475350       1\n",
       "4  47206413       1"
      ]
     },
     "execution_count": 66,
     "metadata": {},
     "output_type": "execute_result"
    }
   ],
   "source": [
    "orders_by_users_b = orders[orders['group'] == 'B'].groupby('visitor_id', as_index=False).agg(\n",
    "    {'transaction_id': 'nunique'})\n",
    "orders_by_users_b.columns = ['user_id', 'orders']\n",
    "orders_by_users_b.head(5)"
   ]
  },
  {
   "cell_type": "markdown",
   "metadata": {},
   "source": [
    "Создадим массивы sample_a и sample_b и поместим в них количество заказов:"
   ]
  },
  {
   "cell_type": "code",
   "execution_count": 67,
   "metadata": {},
   "outputs": [],
   "source": [
    "sample_a = pd.concat(\n",
    "    [orders_by_users_a['orders'], pd.Series(0, \n",
    "                                            index=np.arange(ab['visitors_per_date_a'].sum() - len(\n",
    "                                            orders_by_users_a['orders'])),name='orders')], axis=0)"
   ]
  },
  {
   "cell_type": "code",
   "execution_count": 68,
   "metadata": {},
   "outputs": [],
   "source": [
    "sample_b = pd.concat(\n",
    "    [orders_by_users_b['orders'], pd.Series(0, \n",
    "                                            index=np.arange(ab['visitors_per_date_b'].sum() - len(\n",
    "                                            orders_by_users_b['orders'])),name='orders')], axis=0)"
   ]
  },
  {
   "cell_type": "markdown",
   "metadata": {},
   "source": [
    "Cформулируем нулеву гипотезу: <a class='anchor' id='edit5'></a>"
   ]
  },
  {
   "cell_type": "markdown",
   "metadata": {},
   "source": [
    "---\n",
    "*$H_0=$ \"\n",
    "Конверсия по \"сырым\" данным в группе А не отличается от конверсии по \"сырым\" данным в группе B\"*\n",
    "\n",
    "---"
   ]
  },
  {
   "cell_type": "markdown",
   "metadata": {},
   "source": [
    "Произведем проверку критерем Манна-Уитни (это непараметрический метод, который наиболее уместен; когда существует большое количество выбросов, алгебраические методы могут быть сильно искажены):"
   ]
  },
  {
   "cell_type": "code",
   "execution_count": 69,
   "metadata": {},
   "outputs": [
    {
     "data": {
      "text/plain": [
       "0.0084"
      ]
     },
     "execution_count": 69,
     "metadata": {},
     "output_type": "execute_result"
    }
   ],
   "source": [
    "st.mannwhitneyu(sample_a, sample_b)[1].round(4)"
   ]
  },
  {
   "cell_type": "markdown",
   "metadata": {},
   "source": [
    "Статистическая значимость ниже 0.05, что говорит нам о вероятном различии в конверсиях по \"сырым\" данным между группами. Нулевую гипотезу на данном этапе отвергаем."
   ]
  },
  {
   "cell_type": "code",
   "execution_count": 70,
   "metadata": {},
   "outputs": [
    {
     "data": {
      "text/plain": [
       "0.1381"
      ]
     },
     "execution_count": 70,
     "metadata": {},
     "output_type": "execute_result"
    }
   ],
   "source": [
    "round((sample_b.mean() / sample_a.mean()-1),4)"
   ]
  },
  {
   "cell_type": "markdown",
   "metadata": {},
   "source": [
    "Относительное преимущество группы B равняется 13,81%."
   ]
  },
  {
   "cell_type": "markdown",
   "metadata": {},
   "source": [
    "[⬆︎ К содержанию ⬆︎](#up)"
   ]
  },
  {
   "cell_type": "markdown",
   "metadata": {},
   "source": [
    "### 2.11 Статистическая значимость различий в среднем чеке заказа между группами по «сырым» данным <a class='anchor' id='211'></a>"
   ]
  },
  {
   "cell_type": "markdown",
   "metadata": {},
   "source": [
    "Cформулируем нулеву гипотезу: <a class='anchor' id='edit6'></a>"
   ]
  },
  {
   "cell_type": "markdown",
   "metadata": {},
   "source": [
    "---\n",
    "*$H_0=$ \"Средний чек по \"сырым\" данным в группе А не отличается от среднего чека по \"сырым\" данным в группе B\"*\n",
    "\n",
    "---"
   ]
  },
  {
   "cell_type": "markdown",
   "metadata": {},
   "source": [
    "Определим статистическую значимость критерем Манна-Уитни (метод уместен когда существует большое количество выбросов - алгебраические методы могут быть сильно искажены):"
   ]
  },
  {
   "cell_type": "code",
   "execution_count": 71,
   "metadata": {},
   "outputs": [
    {
     "data": {
      "text/plain": [
       "0.3646"
      ]
     },
     "execution_count": 71,
     "metadata": {},
     "output_type": "execute_result"
    }
   ],
   "source": [
    "st.mannwhitneyu(orders[orders['group'] == 'A']['revenue'],orders[orders['group'] == 'B']['revenue'])[1].round(4)"
   ]
  },
  {
   "cell_type": "markdown",
   "metadata": {},
   "source": [
    "Значение статистической значимости выше 0.05, это говорит о том, что отвергнуть нулевую гипотезу не получилось. Высокая вероятность, что в среднем чеке различия отсутствуют."
   ]
  },
  {
   "cell_type": "code",
   "execution_count": 72,
   "metadata": {},
   "outputs": [
    {
     "data": {
      "text/plain": [
       "0.2587"
      ]
     },
     "execution_count": 72,
     "metadata": {},
     "output_type": "execute_result"
    }
   ],
   "source": [
    "round((orders[orders['group'] == 'B']['revenue'].mean() / orders[orders['group'] == 'A']['revenue'].mean()-1),4)"
   ]
  },
  {
   "cell_type": "markdown",
   "metadata": {},
   "source": [
    "Средний чек группы B на 25.85% выше чем у группы А."
   ]
  },
  {
   "cell_type": "markdown",
   "metadata": {},
   "source": [
    "[⬆︎ К содержанию ⬆︎](#up)"
   ]
  },
  {
   "cell_type": "markdown",
   "metadata": {},
   "source": [
    "### 2.12 Статистическая значимость различий в конверсии между группами по «очищенным» данным <a class='anchor' id='212'></a>"
   ]
  },
  {
   "cell_type": "markdown",
   "metadata": {},
   "source": [
    "Выделим аномальных пользователей по заказам (отсечем 1% - более 4 покупок):"
   ]
  },
  {
   "cell_type": "code",
   "execution_count": 73,
   "metadata": {},
   "outputs": [],
   "source": [
    "users_with_many_orders = pd.concat([orders_by_users_a[orders_by_users_a['orders'] > 4]['user_id'],\n",
    "                                   orders_by_users_b[orders_by_users_b['orders'] > 4]['user_id']], axis=0)"
   ]
  },
  {
   "cell_type": "markdown",
   "metadata": {},
   "source": [
    "Выделим аномальных пользователей по стоимости (отсечем 5% - стоимость заказа более 28000):"
   ]
  },
  {
   "cell_type": "code",
   "execution_count": 74,
   "metadata": {},
   "outputs": [],
   "source": [
    "users_with_expensive_orders = orders[orders['revenue'] > 28000]['visitor_id']"
   ]
  },
  {
   "cell_type": "markdown",
   "metadata": {},
   "source": [
    "Объединим пользователей в датафрейм с аномальными пользователями:"
   ]
  },
  {
   "cell_type": "code",
   "execution_count": 75,
   "metadata": {},
   "outputs": [
    {
     "data": {
      "text/plain": [
       "(59,)"
      ]
     },
     "execution_count": 75,
     "metadata": {},
     "output_type": "execute_result"
    }
   ],
   "source": [
    "abnormal_users = pd.concat([users_with_many_orders, users_with_expensive_orders], \n",
    "                           axis=0).drop_duplicates().sort_values()\n",
    "abnormal_users.shape"
   ]
  },
  {
   "cell_type": "markdown",
   "metadata": {},
   "source": [
    "- Мы получили 59 аномальных пользователей."
   ]
  },
  {
   "cell_type": "markdown",
   "metadata": {},
   "source": [
    "Отфильтруем пользователей и сделаем данные \"очищенными\":"
   ]
  },
  {
   "cell_type": "code",
   "execution_count": 76,
   "metadata": {},
   "outputs": [],
   "source": [
    "sample_a_filtered = pd.concat([orders_by_users_a[~(orders_by_users_a['user_id'].isin(abnormal_users))]['orders'],\n",
    "                              pd.Series(0, index=np.arange(ab['visitors_per_date_a'].sum() - \n",
    "                                                          len(orders_by_users_a['orders'])), name='orders')], axis=0)\n",
    "sample_b_filtered = pd.concat([orders_by_users_b[~(orders_by_users_b['user_id'].isin(abnormal_users))]['orders'],\n",
    "                              pd.Series(0, index=np.arange(ab['visitors_per_date_b'].sum() - \n",
    "                                                          len(orders_by_users_b['orders'])), name='orders')], axis=0)"
   ]
  },
  {
   "cell_type": "markdown",
   "metadata": {},
   "source": [
    "Проверим распределение \"очищенных\" данных на нормальность распределения: <a class='anchor' id='edit7'></a>"
   ]
  },
  {
   "cell_type": "code",
   "execution_count": 77,
   "metadata": {
    "scrolled": true
   },
   "outputs": [
    {
     "data": {
      "text/plain": [
       "count    18703.000000\n",
       "mean         0.027054\n",
       "std          0.177663\n",
       "min          0.000000\n",
       "25%          0.000000\n",
       "50%          0.000000\n",
       "75%          0.000000\n",
       "max          4.000000\n",
       "Name: orders, dtype: float64"
      ]
     },
     "execution_count": 77,
     "metadata": {},
     "output_type": "execute_result"
    }
   ],
   "source": [
    "sample_a_filtered.describe()"
   ]
  },
  {
   "cell_type": "code",
   "execution_count": 78,
   "metadata": {},
   "outputs": [
    {
     "data": {
      "text/plain": [
       "count    18879.000000\n",
       "mean         0.030987\n",
       "std          0.186820\n",
       "min          0.000000\n",
       "25%          0.000000\n",
       "50%          0.000000\n",
       "75%          0.000000\n",
       "max          4.000000\n",
       "Name: orders, dtype: float64"
      ]
     },
     "execution_count": 78,
     "metadata": {},
     "output_type": "execute_result"
    }
   ],
   "source": [
    "sample_b_filtered.describe()"
   ]
  },
  {
   "cell_type": "markdown",
   "metadata": {},
   "source": [
    "---\n",
    "*$H_0=$ \"\n",
    "Конверсия по \"очищенным\" данным в группе А не отличается от конверсии в группе B\"*\n",
    "\n",
    "---"
   ]
  },
  {
   "cell_type": "markdown",
   "metadata": {},
   "source": [
    "Вычислим статистическую значимость, используя критерий Манна-Уитни (поскольку \"очищенные\" данные нормально не распределены, алгебраические методы дадут искаженные результаты):"
   ]
  },
  {
   "cell_type": "code",
   "execution_count": 79,
   "metadata": {},
   "outputs": [
    {
     "data": {
      "text/plain": [
       "0.0092"
      ]
     },
     "execution_count": 79,
     "metadata": {},
     "output_type": "execute_result"
    }
   ],
   "source": [
    "st.mannwhitneyu(sample_a_filtered, sample_b_filtered)[1].round(4)"
   ]
  },
  {
   "cell_type": "markdown",
   "metadata": {},
   "source": [
    "Полученная статистическая значимость меньше 0.05 - нулевую гипотезу отвергаем. Вероятность сходства выборок слишком мала, чтобы с уверенностью утверждать, что разница в конверсиях между группами не значительна."
   ]
  },
  {
   "cell_type": "code",
   "execution_count": 80,
   "metadata": {},
   "outputs": [
    {
     "data": {
      "text/plain": [
       "0.1453"
      ]
     },
     "execution_count": 80,
     "metadata": {},
     "output_type": "execute_result"
    }
   ],
   "source": [
    "round((sample_b_filtered.mean() / sample_a_filtered.mean()-1),4)"
   ]
  },
  {
   "cell_type": "markdown",
   "metadata": {},
   "source": [
    "Группа B опережает по конверсии группу А на 14,53%."
   ]
  },
  {
   "cell_type": "markdown",
   "metadata": {},
   "source": [
    "[⬆︎ К содержанию ⬆︎](#up)"
   ]
  },
  {
   "cell_type": "markdown",
   "metadata": {},
   "source": [
    "### 2.13 Статистическая значимость различий в среднем чеке заказа между группами по «очищенным» данным <a class='anchor' id='213'></a>"
   ]
  },
  {
   "cell_type": "markdown",
   "metadata": {},
   "source": [
    "Исследуем распределние \"очищенных\" данных: <a class='anchor' id='edit8'></a>"
   ]
  },
  {
   "cell_type": "code",
   "execution_count": 81,
   "metadata": {},
   "outputs": [
    {
     "data": {
      "text/plain": [
       "count      506.000000\n",
       "mean      5140.804348\n",
       "std       5799.177280\n",
       "min         50.000000\n",
       "25%       1090.000000\n",
       "50%       2720.000000\n",
       "75%       6754.250000\n",
       "max      27550.000000\n",
       "Name: revenue, dtype: float64"
      ]
     },
     "execution_count": 81,
     "metadata": {},
     "output_type": "execute_result"
    }
   ],
   "source": [
    "orders[(orders['group'] == 'A') & (~orders['visitor_id'].isin(abnormal_users))]['revenue'].describe()"
   ]
  },
  {
   "cell_type": "code",
   "execution_count": 82,
   "metadata": {},
   "outputs": [
    {
     "data": {
      "text/plain": [
       "count      585.000000\n",
       "mean      5069.731624\n",
       "std       5779.542931\n",
       "min         50.000000\n",
       "25%       1190.000000\n",
       "50%       2690.000000\n",
       "75%       6613.000000\n",
       "max      27985.000000\n",
       "Name: revenue, dtype: float64"
      ]
     },
     "execution_count": 82,
     "metadata": {},
     "output_type": "execute_result"
    }
   ],
   "source": [
    "orders[(orders['group'] == 'B') & (~orders['visitor_id'].isin(abnormal_users))]['revenue'].describe()"
   ]
  },
  {
   "cell_type": "markdown",
   "metadata": {},
   "source": [
    "Распределение даннных по \"очищенным заказам\" не нормально."
   ]
  },
  {
   "cell_type": "markdown",
   "metadata": {},
   "source": [
    "Сформулируем нулевую гипотезу:"
   ]
  },
  {
   "cell_type": "markdown",
   "metadata": {},
   "source": [
    "---\n",
    "*$H_0=$ \"Средний чек по \"очищенным\" данным в группе А не отличается от среднего чека в группе B\"*\n",
    "\n",
    "---"
   ]
  },
  {
   "cell_type": "markdown",
   "metadata": {},
   "source": [
    "Произведем вычисление статистической значимости между группами по среднему чеку методом Манна-Уитни (так как алгебрраические методы могут быть вновь искажены):"
   ]
  },
  {
   "cell_type": "code",
   "execution_count": 83,
   "metadata": {},
   "outputs": [
    {
     "data": {
      "text/plain": [
       "0.4806"
      ]
     },
     "execution_count": 83,
     "metadata": {},
     "output_type": "execute_result"
    }
   ],
   "source": [
    "st.mannwhitneyu(orders[(orders['group'] == 'A') & (~orders['visitor_id'].isin(abnormal_users))]['revenue'],\n",
    "            orders[(orders['group'] == 'B') & (~orders['visitor_id'].isin(abnormal_users))]['revenue'])[1].round(4)"
   ]
  },
  {
   "cell_type": "markdown",
   "metadata": {},
   "source": [
    "Статистическая значимость выше порога в 0.05, что не дает нам отвергнуть нулевую гипотезу. Большая вероятность что результаты по среднему чеку не различаются."
   ]
  },
  {
   "cell_type": "code",
   "execution_count": 84,
   "metadata": {
    "scrolled": true
   },
   "outputs": [
    {
     "data": {
      "text/plain": [
       "-0.0138"
      ]
     },
     "execution_count": 84,
     "metadata": {},
     "output_type": "execute_result"
    }
   ],
   "source": [
    "round((\n",
    "    orders[(orders['group'] == 'B') & (~orders['visitor_id'].isin(abnormal_users))]['revenue'].mean() /\n",
    "    orders[(orders['group'] == 'A') & (~orders['visitor_id'].isin(abnormal_users))]['revenue'].mean()-1\n",
    "),4)"
   ]
  },
  {
   "cell_type": "markdown",
   "metadata": {},
   "source": [
    "Группа B проигрывает группе А по среднему чеку 1,38%."
   ]
  },
  {
   "cell_type": "markdown",
   "metadata": {},
   "source": [
    "[⬆︎ К содержанию ⬆︎](#up)"
   ]
  },
  {
   "cell_type": "markdown",
   "metadata": {},
   "source": [
    "### 2.14 Решение по результатам теста <a class='anchor' id='214'></a>"
   ]
  },
  {
   "cell_type": "markdown",
   "metadata": {},
   "source": [
    "Результаты тестирования:"
   ]
  },
  {
   "cell_type": "markdown",
   "metadata": {},
   "source": [
    "По конверсии:\n",
    "\n",
    "- Статистическая значимость **ниже** 0.05, что говорит нам о вероятном различии в конверсиях по \"сырым\" данным между группами. Нулевую гипотезу на данном этапе **отвергаем**.\n",
    "\n",
    "- Относительное **преимущество группы B** по конверсии, исходя из \"сырых\" данных, равняется 13,81%.\n",
    "\n",
    "\n",
    "- Полученная на \"очищенных\" данных статистическая значимость **ниже** 0.05 - нулевую гипотезу **отвергаем**. Вероятность сходства выборот слишком мала, чтобы с уверенностью утверждать, что изменения не значительны.\n",
    "\n",
    "- \"Очищенные\" данные показывают, что **группа B опережает по конверсии** группу А на 14,53%.\n",
    "\n",
    "По среднему чеку:\n",
    "\n",
    "- Значение статистической значимости по \"сырым\" данным **выше** 0.05, это говорит о том, что отвергнуть **нулевую гипотезу** не получилось. Высокая вероятность, что в среднем чеке различия отсутствуют.\n",
    "\n",
    "- \"Сырые\" данные показали, что **средний чек группы B** на 25.85% **выше** чем у группы А.\n",
    "\n",
    "\n",
    "- Статистическая значимость по \"очищенным\" данным **выше** порога в 0.05, что не дает нам отвергнуть **нулевую гипотезу**. Большая вероятность что результаты по среднему чеку не различаются.\n",
    "\n",
    "- \"Очищенные\" данные показывают, что группа B **проигрывает** группе А по среднему чеку 1,38%."
   ]
  },
  {
   "cell_type": "markdown",
   "metadata": {},
   "source": [
    "##### Выводы:"
   ]
  },
  {
   "cell_type": "markdown",
   "metadata": {},
   "source": [
    "- Между группами существует статистически значимое различие как по \"сырым\" данным так и после фильтрации аномалий."
   ]
  },
  {
   "cell_type": "markdown",
   "metadata": {},
   "source": [
    "- Между группами не существует статистически значимого различия по среднему чеку ни по \"сырым\", ни под отфильтрованным данным."
   ]
  },
  {
   "cell_type": "markdown",
   "metadata": {},
   "source": [
    "- График различия конверсий показывает позитивные тенденции для группы B."
   ]
  },
  {
   "cell_type": "markdown",
   "metadata": {},
   "source": [
    "![](data:image/png;base64,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)"
   ]
  },
  {
   "cell_type": "markdown",
   "metadata": {},
   "source": [
    "- График различия по среднему чеку показывает относительное преимущество группы B. Однако тенденция не постоянна. Однозначеные выводы из графика сделать сложно."
   ]
  },
  {
   "cell_type": "markdown",
   "metadata": {},
   "source": [
    "![](data:image/png;base64,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)"
   ]
  },
  {
   "cell_type": "markdown",
   "metadata": {},
   "source": [
    "---\n",
    "*ЗАКЛЮЧЕНИЕ*: **Остановить тест и признать победу группы B. Изменения группы B позитивно сказались на конверсии.** <a class='anchor' id='total'></a>\n",
    "\n",
    "---"
   ]
  },
  {
   "cell_type": "markdown",
   "metadata": {},
   "source": [
    "[⬆︎ К содержанию ⬆︎](#up)"
   ]
  }
 ],
 "metadata": {
  "kernelspec": {
   "display_name": "Python 3",
   "language": "python",
   "name": "python3"
  },
  "language_info": {
   "codemirror_mode": {
    "name": "ipython",
    "version": 3
   },
   "file_extension": ".py",
   "mimetype": "text/x-python",
   "name": "python",
   "nbconvert_exporter": "python",
   "pygments_lexer": "ipython3",
   "version": "3.7.6"
  }
 },
 "nbformat": 4,
 "nbformat_minor": 2
}
